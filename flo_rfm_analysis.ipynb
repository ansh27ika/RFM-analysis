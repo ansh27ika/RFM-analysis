{
 "cells": [
  {
   "cell_type": "markdown",
   "id": "7556884a",
   "metadata": {},
   "source": [
    "## Importing Libraries"
   ]
  },
  {
   "cell_type": "code",
   "execution_count": 2,
   "id": "78e2879d",
   "metadata": {},
   "outputs": [],
   "source": [
    "import pandas as pd\n",
    "import numpy as np\n",
    "import matplotlib.pyplot as plt\n",
    "import seaborn as sns\n",
    "import datetime as dt\n",
    "import squarify\n"
   ]
  },
  {
   "cell_type": "markdown",
   "id": "0b7d0a85",
   "metadata": {},
   "source": [
    "## reading the dataset"
   ]
  },
  {
   "cell_type": "code",
   "execution_count": 3,
   "id": "cba7869f",
   "metadata": {},
   "outputs": [],
   "source": [
    "df = pd.read_csv('flo_data_20k.csv')"
   ]
  },
  {
   "cell_type": "code",
   "execution_count": 4,
   "id": "69d5c9d4",
   "metadata": {},
   "outputs": [
    {
     "data": {
      "text/html": [
       "<div>\n",
       "<style scoped>\n",
       "    .dataframe tbody tr th:only-of-type {\n",
       "        vertical-align: middle;\n",
       "    }\n",
       "\n",
       "    .dataframe tbody tr th {\n",
       "        vertical-align: top;\n",
       "    }\n",
       "\n",
       "    .dataframe thead th {\n",
       "        text-align: right;\n",
       "    }\n",
       "</style>\n",
       "<table border=\"1\" class=\"dataframe\">\n",
       "  <thead>\n",
       "    <tr style=\"text-align: right;\">\n",
       "      <th></th>\n",
       "      <th>master_id</th>\n",
       "      <th>order_channel</th>\n",
       "      <th>last_order_channel</th>\n",
       "      <th>first_order_date</th>\n",
       "      <th>last_order_date</th>\n",
       "      <th>last_order_date_online</th>\n",
       "      <th>last_order_date_offline</th>\n",
       "      <th>order_num_total_ever_online</th>\n",
       "      <th>order_num_total_ever_offline</th>\n",
       "      <th>customer_value_total_ever_offline</th>\n",
       "      <th>customer_value_total_ever_online</th>\n",
       "      <th>interested_in_categories_12</th>\n",
       "    </tr>\n",
       "  </thead>\n",
       "  <tbody>\n",
       "    <tr>\n",
       "      <th>0</th>\n",
       "      <td>cc294636-19f0-11eb-8d74-000d3a38a36f</td>\n",
       "      <td>Android App</td>\n",
       "      <td>Offline</td>\n",
       "      <td>2020-10-30</td>\n",
       "      <td>2021-02-26</td>\n",
       "      <td>2021-02-21</td>\n",
       "      <td>2021-02-26</td>\n",
       "      <td>4.0</td>\n",
       "      <td>1.0</td>\n",
       "      <td>139.99</td>\n",
       "      <td>799.38</td>\n",
       "      <td>[KADIN]</td>\n",
       "    </tr>\n",
       "    <tr>\n",
       "      <th>1</th>\n",
       "      <td>f431bd5a-ab7b-11e9-a2fc-000d3a38a36f</td>\n",
       "      <td>Android App</td>\n",
       "      <td>Mobile</td>\n",
       "      <td>2017-02-08</td>\n",
       "      <td>2021-02-16</td>\n",
       "      <td>2021-02-16</td>\n",
       "      <td>2020-01-10</td>\n",
       "      <td>19.0</td>\n",
       "      <td>2.0</td>\n",
       "      <td>159.97</td>\n",
       "      <td>1853.58</td>\n",
       "      <td>[ERKEK, COCUK, KADIN, AKTIFSPOR]</td>\n",
       "    </tr>\n",
       "    <tr>\n",
       "      <th>2</th>\n",
       "      <td>69b69676-1a40-11ea-941b-000d3a38a36f</td>\n",
       "      <td>Android App</td>\n",
       "      <td>Android App</td>\n",
       "      <td>2019-11-27</td>\n",
       "      <td>2020-11-27</td>\n",
       "      <td>2020-11-27</td>\n",
       "      <td>2019-12-01</td>\n",
       "      <td>3.0</td>\n",
       "      <td>2.0</td>\n",
       "      <td>189.97</td>\n",
       "      <td>395.35</td>\n",
       "      <td>[ERKEK, KADIN]</td>\n",
       "    </tr>\n",
       "    <tr>\n",
       "      <th>3</th>\n",
       "      <td>1854e56c-491f-11eb-806e-000d3a38a36f</td>\n",
       "      <td>Android App</td>\n",
       "      <td>Android App</td>\n",
       "      <td>2021-01-06</td>\n",
       "      <td>2021-01-17</td>\n",
       "      <td>2021-01-17</td>\n",
       "      <td>2021-01-06</td>\n",
       "      <td>1.0</td>\n",
       "      <td>1.0</td>\n",
       "      <td>39.99</td>\n",
       "      <td>81.98</td>\n",
       "      <td>[AKTIFCOCUK, COCUK]</td>\n",
       "    </tr>\n",
       "    <tr>\n",
       "      <th>4</th>\n",
       "      <td>d6ea1074-f1f5-11e9-9346-000d3a38a36f</td>\n",
       "      <td>Desktop</td>\n",
       "      <td>Desktop</td>\n",
       "      <td>2019-08-03</td>\n",
       "      <td>2021-03-07</td>\n",
       "      <td>2021-03-07</td>\n",
       "      <td>2019-08-03</td>\n",
       "      <td>1.0</td>\n",
       "      <td>1.0</td>\n",
       "      <td>49.99</td>\n",
       "      <td>159.99</td>\n",
       "      <td>[AKTIFSPOR]</td>\n",
       "    </tr>\n",
       "  </tbody>\n",
       "</table>\n",
       "</div>"
      ],
      "text/plain": [
       "                              master_id order_channel last_order_channel  \\\n",
       "0  cc294636-19f0-11eb-8d74-000d3a38a36f   Android App            Offline   \n",
       "1  f431bd5a-ab7b-11e9-a2fc-000d3a38a36f   Android App             Mobile   \n",
       "2  69b69676-1a40-11ea-941b-000d3a38a36f   Android App        Android App   \n",
       "3  1854e56c-491f-11eb-806e-000d3a38a36f   Android App        Android App   \n",
       "4  d6ea1074-f1f5-11e9-9346-000d3a38a36f       Desktop            Desktop   \n",
       "\n",
       "  first_order_date last_order_date last_order_date_online  \\\n",
       "0       2020-10-30      2021-02-26             2021-02-21   \n",
       "1       2017-02-08      2021-02-16             2021-02-16   \n",
       "2       2019-11-27      2020-11-27             2020-11-27   \n",
       "3       2021-01-06      2021-01-17             2021-01-17   \n",
       "4       2019-08-03      2021-03-07             2021-03-07   \n",
       "\n",
       "  last_order_date_offline  order_num_total_ever_online  \\\n",
       "0              2021-02-26                          4.0   \n",
       "1              2020-01-10                         19.0   \n",
       "2              2019-12-01                          3.0   \n",
       "3              2021-01-06                          1.0   \n",
       "4              2019-08-03                          1.0   \n",
       "\n",
       "   order_num_total_ever_offline  customer_value_total_ever_offline  \\\n",
       "0                           1.0                             139.99   \n",
       "1                           2.0                             159.97   \n",
       "2                           2.0                             189.97   \n",
       "3                           1.0                              39.99   \n",
       "4                           1.0                              49.99   \n",
       "\n",
       "   customer_value_total_ever_online       interested_in_categories_12  \n",
       "0                            799.38                           [KADIN]  \n",
       "1                           1853.58  [ERKEK, COCUK, KADIN, AKTIFSPOR]  \n",
       "2                            395.35                    [ERKEK, KADIN]  \n",
       "3                             81.98               [AKTIFCOCUK, COCUK]  \n",
       "4                            159.99                       [AKTIFSPOR]  "
      ]
     },
     "execution_count": 4,
     "metadata": {},
     "output_type": "execute_result"
    }
   ],
   "source": [
    "df.head()"
   ]
  },
  {
   "cell_type": "code",
   "execution_count": 5,
   "id": "857a8efa",
   "metadata": {},
   "outputs": [
    {
     "data": {
      "text/plain": [
       "(19945, 12)"
      ]
     },
     "execution_count": 5,
     "metadata": {},
     "output_type": "execute_result"
    }
   ],
   "source": [
    "df.shape"
   ]
  },
  {
   "cell_type": "markdown",
   "id": "bdeac07c",
   "metadata": {},
   "source": [
    "## stats"
   ]
  },
  {
   "cell_type": "code",
   "execution_count": 6,
   "id": "2e4cf770",
   "metadata": {
    "scrolled": true
   },
   "outputs": [
    {
     "data": {
      "text/html": [
       "<div>\n",
       "<style scoped>\n",
       "    .dataframe tbody tr th:only-of-type {\n",
       "        vertical-align: middle;\n",
       "    }\n",
       "\n",
       "    .dataframe tbody tr th {\n",
       "        vertical-align: top;\n",
       "    }\n",
       "\n",
       "    .dataframe thead th {\n",
       "        text-align: right;\n",
       "    }\n",
       "</style>\n",
       "<table border=\"1\" class=\"dataframe\">\n",
       "  <thead>\n",
       "    <tr style=\"text-align: right;\">\n",
       "      <th></th>\n",
       "      <th>count</th>\n",
       "      <th>mean</th>\n",
       "      <th>std</th>\n",
       "      <th>min</th>\n",
       "      <th>25%</th>\n",
       "      <th>50%</th>\n",
       "      <th>75%</th>\n",
       "      <th>max</th>\n",
       "    </tr>\n",
       "  </thead>\n",
       "  <tbody>\n",
       "    <tr>\n",
       "      <th>order_num_total_ever_online</th>\n",
       "      <td>19945.0</td>\n",
       "      <td>3.110855</td>\n",
       "      <td>4.225647</td>\n",
       "      <td>1.00</td>\n",
       "      <td>1.00</td>\n",
       "      <td>2.00</td>\n",
       "      <td>4.00</td>\n",
       "      <td>200.00</td>\n",
       "    </tr>\n",
       "    <tr>\n",
       "      <th>order_num_total_ever_offline</th>\n",
       "      <td>19945.0</td>\n",
       "      <td>1.913913</td>\n",
       "      <td>2.062880</td>\n",
       "      <td>1.00</td>\n",
       "      <td>1.00</td>\n",
       "      <td>1.00</td>\n",
       "      <td>2.00</td>\n",
       "      <td>109.00</td>\n",
       "    </tr>\n",
       "    <tr>\n",
       "      <th>customer_value_total_ever_offline</th>\n",
       "      <td>19945.0</td>\n",
       "      <td>253.922597</td>\n",
       "      <td>301.532853</td>\n",
       "      <td>10.00</td>\n",
       "      <td>99.99</td>\n",
       "      <td>179.98</td>\n",
       "      <td>319.97</td>\n",
       "      <td>18119.14</td>\n",
       "    </tr>\n",
       "    <tr>\n",
       "      <th>customer_value_total_ever_online</th>\n",
       "      <td>19945.0</td>\n",
       "      <td>497.321690</td>\n",
       "      <td>832.601886</td>\n",
       "      <td>12.99</td>\n",
       "      <td>149.98</td>\n",
       "      <td>286.46</td>\n",
       "      <td>578.44</td>\n",
       "      <td>45220.13</td>\n",
       "    </tr>\n",
       "  </tbody>\n",
       "</table>\n",
       "</div>"
      ],
      "text/plain": [
       "                                     count        mean         std    min  \\\n",
       "order_num_total_ever_online        19945.0    3.110855    4.225647   1.00   \n",
       "order_num_total_ever_offline       19945.0    1.913913    2.062880   1.00   \n",
       "customer_value_total_ever_offline  19945.0  253.922597  301.532853  10.00   \n",
       "customer_value_total_ever_online   19945.0  497.321690  832.601886  12.99   \n",
       "\n",
       "                                      25%     50%     75%       max  \n",
       "order_num_total_ever_online          1.00    2.00    4.00    200.00  \n",
       "order_num_total_ever_offline         1.00    1.00    2.00    109.00  \n",
       "customer_value_total_ever_offline   99.99  179.98  319.97  18119.14  \n",
       "customer_value_total_ever_online   149.98  286.46  578.44  45220.13  "
      ]
     },
     "execution_count": 6,
     "metadata": {},
     "output_type": "execute_result"
    }
   ],
   "source": [
    "df.describe().T\n"
   ]
  },
  {
   "cell_type": "markdown",
   "id": "dd38bac5",
   "metadata": {},
   "source": [
    "# Data cleaning"
   ]
  },
  {
   "cell_type": "markdown",
   "id": "273acd20",
   "metadata": {},
   "source": [
    "### checking nulls "
   ]
  },
  {
   "cell_type": "code",
   "execution_count": 7,
   "id": "54ad0def",
   "metadata": {},
   "outputs": [
    {
     "data": {
      "text/plain": [
       "master_id                            0\n",
       "order_channel                        0\n",
       "last_order_channel                   0\n",
       "first_order_date                     0\n",
       "last_order_date                      0\n",
       "last_order_date_online               0\n",
       "last_order_date_offline              0\n",
       "order_num_total_ever_online          0\n",
       "order_num_total_ever_offline         0\n",
       "customer_value_total_ever_offline    0\n",
       "customer_value_total_ever_online     0\n",
       "interested_in_categories_12          0\n",
       "dtype: int64"
      ]
     },
     "execution_count": 7,
     "metadata": {},
     "output_type": "execute_result"
    }
   ],
   "source": [
    "df.isnull().sum()"
   ]
  },
  {
   "cell_type": "markdown",
   "id": "83aefac1",
   "metadata": {},
   "source": [
    "### checking data types"
   ]
  },
  {
   "cell_type": "code",
   "execution_count": 8,
   "id": "cf39411e",
   "metadata": {},
   "outputs": [
    {
     "data": {
      "text/plain": [
       "master_id                             object\n",
       "order_channel                         object\n",
       "last_order_channel                    object\n",
       "first_order_date                      object\n",
       "last_order_date                       object\n",
       "last_order_date_online                object\n",
       "last_order_date_offline               object\n",
       "order_num_total_ever_online          float64\n",
       "order_num_total_ever_offline         float64\n",
       "customer_value_total_ever_offline    float64\n",
       "customer_value_total_ever_online     float64\n",
       "interested_in_categories_12           object\n",
       "dtype: object"
      ]
     },
     "execution_count": 8,
     "metadata": {},
     "output_type": "execute_result"
    }
   ],
   "source": [
    "df.dtypes"
   ]
  },
  {
   "cell_type": "code",
   "execution_count": null,
   "id": "e88176b3",
   "metadata": {},
   "outputs": [],
   "source": []
  },
  {
   "cell_type": "code",
   "execution_count": 9,
   "id": "a319aa4c",
   "metadata": {},
   "outputs": [],
   "source": [
    "df[\"total_of_purchases\"] = df[\"order_num_total_ever_online\"] + df[\"order_num_total_ever_offline\"]\n"
   ]
  },
  {
   "cell_type": "code",
   "execution_count": 10,
   "id": "1ce59275",
   "metadata": {},
   "outputs": [],
   "source": [
    "df[\"total_expenditure\"] = df[\"customer_value_total_ever_offline\"] + df[\"customer_value_total_ever_online\"]"
   ]
  },
  {
   "cell_type": "code",
   "execution_count": 11,
   "id": "c31d314a",
   "metadata": {},
   "outputs": [
    {
     "data": {
      "text/html": [
       "<div>\n",
       "<style scoped>\n",
       "    .dataframe tbody tr th:only-of-type {\n",
       "        vertical-align: middle;\n",
       "    }\n",
       "\n",
       "    .dataframe tbody tr th {\n",
       "        vertical-align: top;\n",
       "    }\n",
       "\n",
       "    .dataframe thead th {\n",
       "        text-align: right;\n",
       "    }\n",
       "</style>\n",
       "<table border=\"1\" class=\"dataframe\">\n",
       "  <thead>\n",
       "    <tr style=\"text-align: right;\">\n",
       "      <th></th>\n",
       "      <th>master_id</th>\n",
       "      <th>order_channel</th>\n",
       "      <th>last_order_channel</th>\n",
       "      <th>first_order_date</th>\n",
       "      <th>last_order_date</th>\n",
       "      <th>last_order_date_online</th>\n",
       "      <th>last_order_date_offline</th>\n",
       "      <th>order_num_total_ever_online</th>\n",
       "      <th>order_num_total_ever_offline</th>\n",
       "      <th>customer_value_total_ever_offline</th>\n",
       "      <th>customer_value_total_ever_online</th>\n",
       "      <th>interested_in_categories_12</th>\n",
       "      <th>total_of_purchases</th>\n",
       "      <th>total_expenditure</th>\n",
       "    </tr>\n",
       "  </thead>\n",
       "  <tbody>\n",
       "    <tr>\n",
       "      <th>0</th>\n",
       "      <td>cc294636-19f0-11eb-8d74-000d3a38a36f</td>\n",
       "      <td>Android App</td>\n",
       "      <td>Offline</td>\n",
       "      <td>2020-10-30</td>\n",
       "      <td>2021-02-26</td>\n",
       "      <td>2021-02-21</td>\n",
       "      <td>2021-02-26</td>\n",
       "      <td>4.0</td>\n",
       "      <td>1.0</td>\n",
       "      <td>139.99</td>\n",
       "      <td>799.38</td>\n",
       "      <td>[KADIN]</td>\n",
       "      <td>5.0</td>\n",
       "      <td>939.37</td>\n",
       "    </tr>\n",
       "    <tr>\n",
       "      <th>1</th>\n",
       "      <td>f431bd5a-ab7b-11e9-a2fc-000d3a38a36f</td>\n",
       "      <td>Android App</td>\n",
       "      <td>Mobile</td>\n",
       "      <td>2017-02-08</td>\n",
       "      <td>2021-02-16</td>\n",
       "      <td>2021-02-16</td>\n",
       "      <td>2020-01-10</td>\n",
       "      <td>19.0</td>\n",
       "      <td>2.0</td>\n",
       "      <td>159.97</td>\n",
       "      <td>1853.58</td>\n",
       "      <td>[ERKEK, COCUK, KADIN, AKTIFSPOR]</td>\n",
       "      <td>21.0</td>\n",
       "      <td>2013.55</td>\n",
       "    </tr>\n",
       "    <tr>\n",
       "      <th>2</th>\n",
       "      <td>69b69676-1a40-11ea-941b-000d3a38a36f</td>\n",
       "      <td>Android App</td>\n",
       "      <td>Android App</td>\n",
       "      <td>2019-11-27</td>\n",
       "      <td>2020-11-27</td>\n",
       "      <td>2020-11-27</td>\n",
       "      <td>2019-12-01</td>\n",
       "      <td>3.0</td>\n",
       "      <td>2.0</td>\n",
       "      <td>189.97</td>\n",
       "      <td>395.35</td>\n",
       "      <td>[ERKEK, KADIN]</td>\n",
       "      <td>5.0</td>\n",
       "      <td>585.32</td>\n",
       "    </tr>\n",
       "    <tr>\n",
       "      <th>3</th>\n",
       "      <td>1854e56c-491f-11eb-806e-000d3a38a36f</td>\n",
       "      <td>Android App</td>\n",
       "      <td>Android App</td>\n",
       "      <td>2021-01-06</td>\n",
       "      <td>2021-01-17</td>\n",
       "      <td>2021-01-17</td>\n",
       "      <td>2021-01-06</td>\n",
       "      <td>1.0</td>\n",
       "      <td>1.0</td>\n",
       "      <td>39.99</td>\n",
       "      <td>81.98</td>\n",
       "      <td>[AKTIFCOCUK, COCUK]</td>\n",
       "      <td>2.0</td>\n",
       "      <td>121.97</td>\n",
       "    </tr>\n",
       "    <tr>\n",
       "      <th>4</th>\n",
       "      <td>d6ea1074-f1f5-11e9-9346-000d3a38a36f</td>\n",
       "      <td>Desktop</td>\n",
       "      <td>Desktop</td>\n",
       "      <td>2019-08-03</td>\n",
       "      <td>2021-03-07</td>\n",
       "      <td>2021-03-07</td>\n",
       "      <td>2019-08-03</td>\n",
       "      <td>1.0</td>\n",
       "      <td>1.0</td>\n",
       "      <td>49.99</td>\n",
       "      <td>159.99</td>\n",
       "      <td>[AKTIFSPOR]</td>\n",
       "      <td>2.0</td>\n",
       "      <td>209.98</td>\n",
       "    </tr>\n",
       "    <tr>\n",
       "      <th>...</th>\n",
       "      <td>...</td>\n",
       "      <td>...</td>\n",
       "      <td>...</td>\n",
       "      <td>...</td>\n",
       "      <td>...</td>\n",
       "      <td>...</td>\n",
       "      <td>...</td>\n",
       "      <td>...</td>\n",
       "      <td>...</td>\n",
       "      <td>...</td>\n",
       "      <td>...</td>\n",
       "      <td>...</td>\n",
       "      <td>...</td>\n",
       "      <td>...</td>\n",
       "    </tr>\n",
       "    <tr>\n",
       "      <th>19940</th>\n",
       "      <td>727e2b6e-ddd4-11e9-a848-000d3a38a36f</td>\n",
       "      <td>Android App</td>\n",
       "      <td>Offline</td>\n",
       "      <td>2019-09-21</td>\n",
       "      <td>2020-07-05</td>\n",
       "      <td>2020-06-05</td>\n",
       "      <td>2020-07-05</td>\n",
       "      <td>1.0</td>\n",
       "      <td>2.0</td>\n",
       "      <td>289.98</td>\n",
       "      <td>111.98</td>\n",
       "      <td>[ERKEK, AKTIFSPOR]</td>\n",
       "      <td>3.0</td>\n",
       "      <td>401.96</td>\n",
       "    </tr>\n",
       "    <tr>\n",
       "      <th>19941</th>\n",
       "      <td>25cd53d4-61bf-11ea-8dd8-000d3a38a36f</td>\n",
       "      <td>Desktop</td>\n",
       "      <td>Desktop</td>\n",
       "      <td>2020-03-01</td>\n",
       "      <td>2020-12-22</td>\n",
       "      <td>2020-12-22</td>\n",
       "      <td>2020-03-01</td>\n",
       "      <td>1.0</td>\n",
       "      <td>1.0</td>\n",
       "      <td>150.48</td>\n",
       "      <td>239.99</td>\n",
       "      <td>[AKTIFSPOR]</td>\n",
       "      <td>2.0</td>\n",
       "      <td>390.47</td>\n",
       "    </tr>\n",
       "    <tr>\n",
       "      <th>19942</th>\n",
       "      <td>8aea4c2a-d6fc-11e9-93bc-000d3a38a36f</td>\n",
       "      <td>Ios App</td>\n",
       "      <td>Ios App</td>\n",
       "      <td>2019-09-11</td>\n",
       "      <td>2021-05-24</td>\n",
       "      <td>2021-05-24</td>\n",
       "      <td>2019-09-11</td>\n",
       "      <td>2.0</td>\n",
       "      <td>1.0</td>\n",
       "      <td>139.98</td>\n",
       "      <td>492.96</td>\n",
       "      <td>[AKTIFSPOR]</td>\n",
       "      <td>3.0</td>\n",
       "      <td>632.94</td>\n",
       "    </tr>\n",
       "    <tr>\n",
       "      <th>19943</th>\n",
       "      <td>e50bb46c-ff30-11e9-a5e8-000d3a38a36f</td>\n",
       "      <td>Android App</td>\n",
       "      <td>Android App</td>\n",
       "      <td>2019-03-27</td>\n",
       "      <td>2021-02-13</td>\n",
       "      <td>2021-02-13</td>\n",
       "      <td>2021-01-08</td>\n",
       "      <td>1.0</td>\n",
       "      <td>5.0</td>\n",
       "      <td>711.79</td>\n",
       "      <td>297.98</td>\n",
       "      <td>[ERKEK, AKTIFSPOR]</td>\n",
       "      <td>6.0</td>\n",
       "      <td>1009.77</td>\n",
       "    </tr>\n",
       "    <tr>\n",
       "      <th>19944</th>\n",
       "      <td>740998d2-b1f7-11e9-89fa-000d3a38a36f</td>\n",
       "      <td>Android App</td>\n",
       "      <td>Android App</td>\n",
       "      <td>2019-09-03</td>\n",
       "      <td>2020-06-06</td>\n",
       "      <td>2020-06-06</td>\n",
       "      <td>2019-09-03</td>\n",
       "      <td>1.0</td>\n",
       "      <td>1.0</td>\n",
       "      <td>39.99</td>\n",
       "      <td>221.98</td>\n",
       "      <td>[KADIN, AKTIFSPOR]</td>\n",
       "      <td>2.0</td>\n",
       "      <td>261.97</td>\n",
       "    </tr>\n",
       "  </tbody>\n",
       "</table>\n",
       "<p>19945 rows × 14 columns</p>\n",
       "</div>"
      ],
      "text/plain": [
       "                                  master_id order_channel last_order_channel  \\\n",
       "0      cc294636-19f0-11eb-8d74-000d3a38a36f   Android App            Offline   \n",
       "1      f431bd5a-ab7b-11e9-a2fc-000d3a38a36f   Android App             Mobile   \n",
       "2      69b69676-1a40-11ea-941b-000d3a38a36f   Android App        Android App   \n",
       "3      1854e56c-491f-11eb-806e-000d3a38a36f   Android App        Android App   \n",
       "4      d6ea1074-f1f5-11e9-9346-000d3a38a36f       Desktop            Desktop   \n",
       "...                                     ...           ...                ...   \n",
       "19940  727e2b6e-ddd4-11e9-a848-000d3a38a36f   Android App            Offline   \n",
       "19941  25cd53d4-61bf-11ea-8dd8-000d3a38a36f       Desktop            Desktop   \n",
       "19942  8aea4c2a-d6fc-11e9-93bc-000d3a38a36f       Ios App            Ios App   \n",
       "19943  e50bb46c-ff30-11e9-a5e8-000d3a38a36f   Android App        Android App   \n",
       "19944  740998d2-b1f7-11e9-89fa-000d3a38a36f   Android App        Android App   \n",
       "\n",
       "      first_order_date last_order_date last_order_date_online  \\\n",
       "0           2020-10-30      2021-02-26             2021-02-21   \n",
       "1           2017-02-08      2021-02-16             2021-02-16   \n",
       "2           2019-11-27      2020-11-27             2020-11-27   \n",
       "3           2021-01-06      2021-01-17             2021-01-17   \n",
       "4           2019-08-03      2021-03-07             2021-03-07   \n",
       "...                ...             ...                    ...   \n",
       "19940       2019-09-21      2020-07-05             2020-06-05   \n",
       "19941       2020-03-01      2020-12-22             2020-12-22   \n",
       "19942       2019-09-11      2021-05-24             2021-05-24   \n",
       "19943       2019-03-27      2021-02-13             2021-02-13   \n",
       "19944       2019-09-03      2020-06-06             2020-06-06   \n",
       "\n",
       "      last_order_date_offline  order_num_total_ever_online  \\\n",
       "0                  2021-02-26                          4.0   \n",
       "1                  2020-01-10                         19.0   \n",
       "2                  2019-12-01                          3.0   \n",
       "3                  2021-01-06                          1.0   \n",
       "4                  2019-08-03                          1.0   \n",
       "...                       ...                          ...   \n",
       "19940              2020-07-05                          1.0   \n",
       "19941              2020-03-01                          1.0   \n",
       "19942              2019-09-11                          2.0   \n",
       "19943              2021-01-08                          1.0   \n",
       "19944              2019-09-03                          1.0   \n",
       "\n",
       "       order_num_total_ever_offline  customer_value_total_ever_offline  \\\n",
       "0                               1.0                             139.99   \n",
       "1                               2.0                             159.97   \n",
       "2                               2.0                             189.97   \n",
       "3                               1.0                              39.99   \n",
       "4                               1.0                              49.99   \n",
       "...                             ...                                ...   \n",
       "19940                           2.0                             289.98   \n",
       "19941                           1.0                             150.48   \n",
       "19942                           1.0                             139.98   \n",
       "19943                           5.0                             711.79   \n",
       "19944                           1.0                              39.99   \n",
       "\n",
       "       customer_value_total_ever_online       interested_in_categories_12  \\\n",
       "0                                799.38                           [KADIN]   \n",
       "1                               1853.58  [ERKEK, COCUK, KADIN, AKTIFSPOR]   \n",
       "2                                395.35                    [ERKEK, KADIN]   \n",
       "3                                 81.98               [AKTIFCOCUK, COCUK]   \n",
       "4                                159.99                       [AKTIFSPOR]   \n",
       "...                                 ...                               ...   \n",
       "19940                            111.98                [ERKEK, AKTIFSPOR]   \n",
       "19941                            239.99                       [AKTIFSPOR]   \n",
       "19942                            492.96                       [AKTIFSPOR]   \n",
       "19943                            297.98                [ERKEK, AKTIFSPOR]   \n",
       "19944                            221.98                [KADIN, AKTIFSPOR]   \n",
       "\n",
       "       total_of_purchases  total_expenditure  \n",
       "0                     5.0             939.37  \n",
       "1                    21.0            2013.55  \n",
       "2                     5.0             585.32  \n",
       "3                     2.0             121.97  \n",
       "4                     2.0             209.98  \n",
       "...                   ...                ...  \n",
       "19940                 3.0             401.96  \n",
       "19941                 2.0             390.47  \n",
       "19942                 3.0             632.94  \n",
       "19943                 6.0            1009.77  \n",
       "19944                 2.0             261.97  \n",
       "\n",
       "[19945 rows x 14 columns]"
      ]
     },
     "execution_count": 11,
     "metadata": {},
     "output_type": "execute_result"
    }
   ],
   "source": [
    "df"
   ]
  },
  {
   "cell_type": "code",
   "execution_count": 12,
   "id": "5a6c1d96",
   "metadata": {},
   "outputs": [
    {
     "data": {
      "text/plain": [
       "master_id                            19945\n",
       "order_channel                            4\n",
       "last_order_channel                       5\n",
       "first_order_date                      2465\n",
       "last_order_date                        366\n",
       "last_order_date_online                1743\n",
       "last_order_date_offline                738\n",
       "order_num_total_ever_online             57\n",
       "order_num_total_ever_offline            32\n",
       "customer_value_total_ever_offline     6097\n",
       "customer_value_total_ever_online     11292\n",
       "interested_in_categories_12             32\n",
       "total_of_purchases                      63\n",
       "total_expenditure                    16277\n",
       "dtype: int64"
      ]
     },
     "execution_count": 12,
     "metadata": {},
     "output_type": "execute_result"
    }
   ],
   "source": [
    "df.nunique()"
   ]
  },
  {
   "cell_type": "code",
   "execution_count": 13,
   "id": "bee1118d",
   "metadata": {},
   "outputs": [
    {
     "name": "stdout",
     "output_type": "stream",
     "text": [
      "<class 'pandas.core.frame.DataFrame'>\n",
      "RangeIndex: 19945 entries, 0 to 19944\n",
      "Data columns (total 14 columns):\n",
      " #   Column                             Non-Null Count  Dtype  \n",
      "---  ------                             --------------  -----  \n",
      " 0   master_id                          19945 non-null  object \n",
      " 1   order_channel                      19945 non-null  object \n",
      " 2   last_order_channel                 19945 non-null  object \n",
      " 3   first_order_date                   19945 non-null  object \n",
      " 4   last_order_date                    19945 non-null  object \n",
      " 5   last_order_date_online             19945 non-null  object \n",
      " 6   last_order_date_offline            19945 non-null  object \n",
      " 7   order_num_total_ever_online        19945 non-null  float64\n",
      " 8   order_num_total_ever_offline       19945 non-null  float64\n",
      " 9   customer_value_total_ever_offline  19945 non-null  float64\n",
      " 10  customer_value_total_ever_online   19945 non-null  float64\n",
      " 11  interested_in_categories_12        19945 non-null  object \n",
      " 12  total_of_purchases                 19945 non-null  float64\n",
      " 13  total_expenditure                  19945 non-null  float64\n",
      "dtypes: float64(6), object(8)\n",
      "memory usage: 2.1+ MB\n"
     ]
    }
   ],
   "source": [
    "df.info()"
   ]
  },
  {
   "cell_type": "markdown",
   "id": "cf6ffd6f",
   "metadata": {},
   "source": [
    "## Convert\n",
    "* first_order_date --------------> object\n",
    "* last_order_date --------------> object\n",
    "* last_order_date_online --------------> object\n",
    "* last_order_date_offline --------------> object"
   ]
  },
  {
   "cell_type": "code",
   "execution_count": 14,
   "id": "4f6483aa",
   "metadata": {},
   "outputs": [],
   "source": [
    "# Converting the above mentioned column types from object to datetime format\n",
    "convert =[\"first_order_date\",\"last_order_date\",\"last_order_date_online\",\"last_order_date_offline\"]\n",
    "df[convert] = df[convert].apply(pd.to_datetime)"
   ]
  },
  {
   "cell_type": "code",
   "execution_count": 15,
   "id": "35a8b4ee",
   "metadata": {},
   "outputs": [
    {
     "data": {
      "text/plain": [
       "Android App    9495\n",
       "Mobile         4882\n",
       "Ios App        2833\n",
       "Desktop        2735\n",
       "Name: order_channel, dtype: int64"
      ]
     },
     "execution_count": 15,
     "metadata": {},
     "output_type": "execute_result"
    }
   ],
   "source": [
    "df.order_channel.value_counts()"
   ]
  },
  {
   "cell_type": "code",
   "execution_count": 16,
   "id": "57af7e00",
   "metadata": {
    "scrolled": true
   },
   "outputs": [
    {
     "data": {
      "text/plain": [
       "Android App    6783\n",
       "Offline        6608\n",
       "Mobile         3172\n",
       "Ios App        1696\n",
       "Desktop        1686\n",
       "Name: last_order_channel, dtype: int64"
      ]
     },
     "execution_count": 16,
     "metadata": {},
     "output_type": "execute_result"
    }
   ],
   "source": [
    "df.last_order_channel.value_counts()"
   ]
  },
  {
   "cell_type": "markdown",
   "id": "b386fbd9",
   "metadata": {},
   "source": [
    "## Data visualization"
   ]
  },
  {
   "cell_type": "markdown",
   "id": "71ac1331",
   "metadata": {},
   "source": [
    "### Distribution of the number of customers in the shopping channels"
   ]
  },
  {
   "cell_type": "code",
   "execution_count": 17,
   "id": "56618cea",
   "metadata": {
    "scrolled": false
   },
   "outputs": [
    {
     "data": {
      "text/html": [
       "<div>\n",
       "<style scoped>\n",
       "    .dataframe tbody tr th:only-of-type {\n",
       "        vertical-align: middle;\n",
       "    }\n",
       "\n",
       "    .dataframe tbody tr th {\n",
       "        vertical-align: top;\n",
       "    }\n",
       "\n",
       "    .dataframe thead th {\n",
       "        text-align: right;\n",
       "    }\n",
       "</style>\n",
       "<table border=\"1\" class=\"dataframe\">\n",
       "  <thead>\n",
       "    <tr style=\"text-align: right;\">\n",
       "      <th></th>\n",
       "      <th>order_channel</th>\n",
       "      <th>master_id</th>\n",
       "      <th>total_of_purchases</th>\n",
       "      <th>total_expenditure</th>\n",
       "    </tr>\n",
       "  </thead>\n",
       "  <tbody>\n",
       "    <tr>\n",
       "      <th>0</th>\n",
       "      <td>Android App</td>\n",
       "      <td>9495</td>\n",
       "      <td>52269.0</td>\n",
       "      <td>7819062.76</td>\n",
       "    </tr>\n",
       "    <tr>\n",
       "      <th>1</th>\n",
       "      <td>Desktop</td>\n",
       "      <td>2735</td>\n",
       "      <td>10920.0</td>\n",
       "      <td>1610321.46</td>\n",
       "    </tr>\n",
       "    <tr>\n",
       "      <th>2</th>\n",
       "      <td>Ios App</td>\n",
       "      <td>2833</td>\n",
       "      <td>15351.0</td>\n",
       "      <td>2525999.93</td>\n",
       "    </tr>\n",
       "    <tr>\n",
       "      <th>3</th>\n",
       "      <td>Mobile</td>\n",
       "      <td>4882</td>\n",
       "      <td>21679.0</td>\n",
       "      <td>3028183.16</td>\n",
       "    </tr>\n",
       "  </tbody>\n",
       "</table>\n",
       "</div>"
      ],
      "text/plain": [
       "  order_channel  master_id  total_of_purchases  total_expenditure\n",
       "0   Android App       9495             52269.0         7819062.76\n",
       "1       Desktop       2735             10920.0         1610321.46\n",
       "2       Ios App       2833             15351.0         2525999.93\n",
       "3        Mobile       4882             21679.0         3028183.16"
      ]
     },
     "execution_count": 17,
     "metadata": {},
     "output_type": "execute_result"
    }
   ],
   "source": [
    "# the total number of products purchased and the total expenditures.\n",
    "\n",
    "distribution=df.groupby(\"order_channel\").agg({\"master_id\":\"nunique\",\n",
    "                                 \"total_of_purchases\":\"sum\",\n",
    "                                 \"total_expenditure\":\"sum\"})\n",
    "distribution.reset_index()"
   ]
  },
  {
   "cell_type": "markdown",
   "id": "5a82e051",
   "metadata": {},
   "source": [
    "## total purchases v/s order channel"
   ]
  },
  {
   "cell_type": "code",
   "execution_count": 18,
   "id": "c10b1352",
   "metadata": {},
   "outputs": [
    {
     "data": {
      "image/png": "[encoded data removed]",
      "text/plain": [
       "<Figure size 720x576 with 1 Axes>"
      ]
     },
     "metadata": {
      "needs_background": "light"
     },
     "output_type": "display_data"
    }
   ],
   "source": [
    "plt.figure(figsize=(10,8))\n",
    "sns.lineplot(data=distribution,x='order_channel',y='total_of_purchases')\n",
    "plt.show(block=True)\n",
    "\n"
   ]
  },
  {
   "cell_type": "markdown",
   "id": "e7912396",
   "metadata": {},
   "source": [
    "## total expenditure v/s order channel"
   ]
  },
  {
   "cell_type": "code",
   "execution_count": 19,
   "id": "cbaf0ab7",
   "metadata": {},
   "outputs": [
    {
     "data": {
      "image/png": "[encoded data removed]",
      "text/plain": [
       "<Figure size 720x576 with 1 Axes>"
      ]
     },
     "metadata": {
      "needs_background": "light"
     },
     "output_type": "display_data"
    }
   ],
   "source": [
    "plt.figure(figsize=(10,8))\n",
    "sns.lineplot(data=distribution,x='order_channel',y='total_expenditure')\n",
    "plt.show(block=True)\n"
   ]
  },
  {
   "cell_type": "markdown",
   "id": "99f78da4",
   "metadata": {},
   "source": [
    "## Top 10 shoppers with most revenue"
   ]
  },
  {
   "cell_type": "code",
   "execution_count": 20,
   "id": "4a6bfcc8",
   "metadata": {},
   "outputs": [
    {
     "data": {
      "text/html": [
       "<div>\n",
       "<style scoped>\n",
       "    .dataframe tbody tr th:only-of-type {\n",
       "        vertical-align: middle;\n",
       "    }\n",
       "\n",
       "    .dataframe tbody tr th {\n",
       "        vertical-align: top;\n",
       "    }\n",
       "\n",
       "    .dataframe thead th {\n",
       "        text-align: right;\n",
       "    }\n",
       "</style>\n",
       "<table border=\"1\" class=\"dataframe\">\n",
       "  <thead>\n",
       "    <tr style=\"text-align: right;\">\n",
       "      <th></th>\n",
       "      <th>master_id</th>\n",
       "      <th>total_expenditure</th>\n",
       "    </tr>\n",
       "  </thead>\n",
       "  <tbody>\n",
       "    <tr>\n",
       "      <th>0</th>\n",
       "      <td>5d1c466a-9cfd-11e9-9897-000d3a38a36f</td>\n",
       "      <td>45905.10</td>\n",
       "    </tr>\n",
       "    <tr>\n",
       "      <th>1</th>\n",
       "      <td>d5ef8058-a5c6-11e9-a2fc-000d3a38a36f</td>\n",
       "      <td>36818.29</td>\n",
       "    </tr>\n",
       "    <tr>\n",
       "      <th>2</th>\n",
       "      <td>73fd19aa-9e37-11e9-9897-000d3a38a36f</td>\n",
       "      <td>33918.10</td>\n",
       "    </tr>\n",
       "    <tr>\n",
       "      <th>3</th>\n",
       "      <td>7137a5c0-7aad-11ea-8f20-000d3a38a36f</td>\n",
       "      <td>31227.41</td>\n",
       "    </tr>\n",
       "    <tr>\n",
       "      <th>4</th>\n",
       "      <td>47a642fe-975b-11eb-8c2a-000d3a38a36f</td>\n",
       "      <td>20706.34</td>\n",
       "    </tr>\n",
       "    <tr>\n",
       "      <th>5</th>\n",
       "      <td>a4d534a2-5b1b-11eb-8dbd-000d3a38a36f</td>\n",
       "      <td>18443.57</td>\n",
       "    </tr>\n",
       "    <tr>\n",
       "      <th>6</th>\n",
       "      <td>d696c654-2633-11ea-8e1c-000d3a38a36f</td>\n",
       "      <td>16918.57</td>\n",
       "    </tr>\n",
       "    <tr>\n",
       "      <th>7</th>\n",
       "      <td>fef57ffa-aae6-11e9-a2fc-000d3a38a36f</td>\n",
       "      <td>12726.10</td>\n",
       "    </tr>\n",
       "    <tr>\n",
       "      <th>8</th>\n",
       "      <td>cba59206-9dd1-11e9-9897-000d3a38a36f</td>\n",
       "      <td>12282.24</td>\n",
       "    </tr>\n",
       "    <tr>\n",
       "      <th>9</th>\n",
       "      <td>fc0ce7a4-9d87-11e9-9897-000d3a38a36f</td>\n",
       "      <td>12103.15</td>\n",
       "    </tr>\n",
       "  </tbody>\n",
       "</table>\n",
       "</div>"
      ],
      "text/plain": [
       "                              master_id  total_expenditure\n",
       "0  5d1c466a-9cfd-11e9-9897-000d3a38a36f           45905.10\n",
       "1  d5ef8058-a5c6-11e9-a2fc-000d3a38a36f           36818.29\n",
       "2  73fd19aa-9e37-11e9-9897-000d3a38a36f           33918.10\n",
       "3  7137a5c0-7aad-11ea-8f20-000d3a38a36f           31227.41\n",
       "4  47a642fe-975b-11eb-8c2a-000d3a38a36f           20706.34\n",
       "5  a4d534a2-5b1b-11eb-8dbd-000d3a38a36f           18443.57\n",
       "6  d696c654-2633-11ea-8e1c-000d3a38a36f           16918.57\n",
       "7  fef57ffa-aae6-11e9-a2fc-000d3a38a36f           12726.10\n",
       "8  cba59206-9dd1-11e9-9897-000d3a38a36f           12282.24\n",
       "9  fc0ce7a4-9d87-11e9-9897-000d3a38a36f           12103.15"
      ]
     },
     "execution_count": 20,
     "metadata": {},
     "output_type": "execute_result"
    }
   ],
   "source": [
    " \n",
    "Top_10_shoppers=df.groupby('master_id').agg({'total_expenditure': 'sum'}).\\\n",
    "    sort_values(by='total_expenditure', ascending=False).head(10)\n",
    "Top_10_shoppers.reset_index().head(10)"
   ]
  },
  {
   "cell_type": "code",
   "execution_count": 21,
   "id": "a0a604c8",
   "metadata": {},
   "outputs": [
    {
     "data": {
      "image/png": "[encoded data removed]",
      "text/plain": [
       "<Figure size 720x576 with 1 Axes>"
      ]
     },
     "metadata": {
      "needs_background": "light"
     },
     "output_type": "display_data"
    }
   ],
   "source": [
    "plt.figure(figsize=(10,8))\n",
    "sns.lineplot(data=Top_10_shoppers,y='master_id',x='total_expenditure')\n",
    "plt.show(block=True)"
   ]
  },
  {
   "cell_type": "markdown",
   "id": "8af211e4",
   "metadata": {},
   "source": [
    "## Top 10 customers with the most orders "
   ]
  },
  {
   "cell_type": "code",
   "execution_count": 22,
   "id": "877ca9b8",
   "metadata": {},
   "outputs": [
    {
     "data": {
      "text/html": [
       "<div>\n",
       "<style scoped>\n",
       "    .dataframe tbody tr th:only-of-type {\n",
       "        vertical-align: middle;\n",
       "    }\n",
       "\n",
       "    .dataframe tbody tr th {\n",
       "        vertical-align: top;\n",
       "    }\n",
       "\n",
       "    .dataframe thead th {\n",
       "        text-align: right;\n",
       "    }\n",
       "</style>\n",
       "<table border=\"1\" class=\"dataframe\">\n",
       "  <thead>\n",
       "    <tr style=\"text-align: right;\">\n",
       "      <th></th>\n",
       "      <th>master_id</th>\n",
       "      <th>total_of_purchases</th>\n",
       "    </tr>\n",
       "  </thead>\n",
       "  <tbody>\n",
       "    <tr>\n",
       "      <th>0</th>\n",
       "      <td>5d1c466a-9cfd-11e9-9897-000d3a38a36f</td>\n",
       "      <td>202.0</td>\n",
       "    </tr>\n",
       "    <tr>\n",
       "      <th>1</th>\n",
       "      <td>cba59206-9dd1-11e9-9897-000d3a38a36f</td>\n",
       "      <td>131.0</td>\n",
       "    </tr>\n",
       "    <tr>\n",
       "      <th>2</th>\n",
       "      <td>a57f4302-b1a8-11e9-89fa-000d3a38a36f</td>\n",
       "      <td>111.0</td>\n",
       "    </tr>\n",
       "    <tr>\n",
       "      <th>3</th>\n",
       "      <td>fdbe8304-a7ab-11e9-a2fc-000d3a38a36f</td>\n",
       "      <td>88.0</td>\n",
       "    </tr>\n",
       "    <tr>\n",
       "      <th>4</th>\n",
       "      <td>329968c6-a0e2-11e9-a2fc-000d3a38a36f</td>\n",
       "      <td>83.0</td>\n",
       "    </tr>\n",
       "    <tr>\n",
       "      <th>5</th>\n",
       "      <td>73fd19aa-9e37-11e9-9897-000d3a38a36f</td>\n",
       "      <td>82.0</td>\n",
       "    </tr>\n",
       "    <tr>\n",
       "      <th>6</th>\n",
       "      <td>44d032ee-a0d4-11e9-a2fc-000d3a38a36f</td>\n",
       "      <td>77.0</td>\n",
       "    </tr>\n",
       "    <tr>\n",
       "      <th>7</th>\n",
       "      <td>b27e241a-a901-11e9-a2fc-000d3a38a36f</td>\n",
       "      <td>75.0</td>\n",
       "    </tr>\n",
       "    <tr>\n",
       "      <th>8</th>\n",
       "      <td>d696c654-2633-11ea-8e1c-000d3a38a36f</td>\n",
       "      <td>70.0</td>\n",
       "    </tr>\n",
       "    <tr>\n",
       "      <th>9</th>\n",
       "      <td>a4d534a2-5b1b-11eb-8dbd-000d3a38a36f</td>\n",
       "      <td>70.0</td>\n",
       "    </tr>\n",
       "  </tbody>\n",
       "</table>\n",
       "</div>"
      ],
      "text/plain": [
       "                              master_id  total_of_purchases\n",
       "0  5d1c466a-9cfd-11e9-9897-000d3a38a36f               202.0\n",
       "1  cba59206-9dd1-11e9-9897-000d3a38a36f               131.0\n",
       "2  a57f4302-b1a8-11e9-89fa-000d3a38a36f               111.0\n",
       "3  fdbe8304-a7ab-11e9-a2fc-000d3a38a36f                88.0\n",
       "4  329968c6-a0e2-11e9-a2fc-000d3a38a36f                83.0\n",
       "5  73fd19aa-9e37-11e9-9897-000d3a38a36f                82.0\n",
       "6  44d032ee-a0d4-11e9-a2fc-000d3a38a36f                77.0\n",
       "7  b27e241a-a901-11e9-a2fc-000d3a38a36f                75.0\n",
       "8  d696c654-2633-11ea-8e1c-000d3a38a36f                70.0\n",
       "9  a4d534a2-5b1b-11eb-8dbd-000d3a38a36f                70.0"
      ]
     },
     "execution_count": 22,
     "metadata": {},
     "output_type": "execute_result"
    }
   ],
   "source": [
    "\n",
    "Top_10_customers=most_orders=df.groupby('master_id').agg({'total_of_purchases': 'sum'}).\\\n",
    "    sort_values(by='total_of_purchases', ascending=False).head(10)\n",
    "most_orders\n",
    "Top_10_customers.reset_index().head(10)"
   ]
  },
  {
   "cell_type": "code",
   "execution_count": 23,
   "id": "5494e8bd",
   "metadata": {
    "scrolled": true
   },
   "outputs": [
    {
     "data": {
      "image/png": "[encoded data removed]",
      "text/plain": [
       "<Figure size 720x576 with 1 Axes>"
      ]
     },
     "metadata": {
      "needs_background": "light"
     },
     "output_type": "display_data"
    }
   ],
   "source": [
    "plt.figure(figsize=(10,8))\n",
    "sns.lineplot(data=Top_10_customers,y='master_id',x='total_of_purchases')\n",
    "plt.show(block=True)"
   ]
  },
  {
   "cell_type": "markdown",
   "id": "a30161b5",
   "metadata": {},
   "source": [
    "##  Total spend by customers, both online and offline"
   ]
  },
  {
   "cell_type": "code",
   "execution_count": 24,
   "id": "2eb5f81e",
   "metadata": {},
   "outputs": [
    {
     "data": {
      "text/plain": [
       "master_id\n",
       "5d1c466a-9cfd-11e9-9897-000d3a38a36f    45905.10\n",
       "d5ef8058-a5c6-11e9-a2fc-000d3a38a36f    36818.29\n",
       "73fd19aa-9e37-11e9-9897-000d3a38a36f    33918.10\n",
       "7137a5c0-7aad-11ea-8f20-000d3a38a36f    31227.41\n",
       "47a642fe-975b-11eb-8c2a-000d3a38a36f    20706.34\n",
       "Name: total_expenditure, dtype: float64"
      ]
     },
     "execution_count": 24,
     "metadata": {},
     "output_type": "execute_result"
    }
   ],
   "source": [
    "\n",
    "df.groupby(\"master_id\")[\"total_expenditure\"].sum().sort_values(ascending=False).head()"
   ]
  },
  {
   "cell_type": "markdown",
   "id": "284d5780",
   "metadata": {},
   "source": [
    "## Total spend by customers in offline mode"
   ]
  },
  {
   "cell_type": "code",
   "execution_count": 25,
   "id": "07f273c3",
   "metadata": {},
   "outputs": [
    {
     "data": {
      "text/plain": [
       "master_id\n",
       "47a642fe-975b-11eb-8c2a-000d3a38a36f    18119.14\n",
       "a57f4302-b1a8-11e9-89fa-000d3a38a36f    10239.46\n",
       "fdbe8304-a7ab-11e9-a2fc-000d3a38a36f     8432.25\n",
       "695889b4-d6ed-11e9-93bc-000d3a38a36f     7247.60\n",
       "44d032ee-a0d4-11e9-a2fc-000d3a38a36f     4640.77\n",
       "Name: customer_value_total_ever_offline, dtype: float64"
      ]
     },
     "execution_count": 25,
     "metadata": {},
     "output_type": "execute_result"
    }
   ],
   "source": [
    "df.groupby(\"master_id\")[\"customer_value_total_ever_offline\"].sum().sort_values(ascending=False).head()"
   ]
  },
  {
   "cell_type": "markdown",
   "id": "0769b4a6",
   "metadata": {},
   "source": [
    "## Total spend by customers in online "
   ]
  },
  {
   "cell_type": "code",
   "execution_count": 26,
   "id": "e5afa880",
   "metadata": {},
   "outputs": [
    {
     "data": {
      "text/plain": [
       "master_id\n",
       "5d1c466a-9cfd-11e9-9897-000d3a38a36f    45220.13\n",
       "d5ef8058-a5c6-11e9-a2fc-000d3a38a36f    36687.80\n",
       "73fd19aa-9e37-11e9-9897-000d3a38a36f    32654.34\n",
       "7137a5c0-7aad-11ea-8f20-000d3a38a36f    30688.47\n",
       "a4d534a2-5b1b-11eb-8dbd-000d3a38a36f    17599.89\n",
       "Name: customer_value_total_ever_online, dtype: float64"
      ]
     },
     "execution_count": 26,
     "metadata": {},
     "output_type": "execute_result"
    }
   ],
   "source": [
    "df.groupby(\"master_id\")[\"customer_value_total_ever_online\"].sum().sort_values(ascending=False).head()"
   ]
  },
  {
   "cell_type": "markdown",
   "id": "b6e4041c",
   "metadata": {},
   "source": [
    "## Total cost of purchase per year (one year!)"
   ]
  },
  {
   "cell_type": "code",
   "execution_count": 27,
   "id": "76a11ff0",
   "metadata": {},
   "outputs": [
    {
     "data": {
      "text/html": [
       "<div>\n",
       "<style scoped>\n",
       "    .dataframe tbody tr th:only-of-type {\n",
       "        vertical-align: middle;\n",
       "    }\n",
       "\n",
       "    .dataframe tbody tr th {\n",
       "        vertical-align: top;\n",
       "    }\n",
       "\n",
       "    .dataframe thead th {\n",
       "        text-align: right;\n",
       "    }\n",
       "</style>\n",
       "<table border=\"1\" class=\"dataframe\">\n",
       "  <thead>\n",
       "    <tr style=\"text-align: right;\">\n",
       "      <th></th>\n",
       "      <th>interested_in_categories_12</th>\n",
       "      <th>total_expenditure</th>\n",
       "    </tr>\n",
       "  </thead>\n",
       "  <tbody>\n",
       "    <tr>\n",
       "      <th>0</th>\n",
       "      <td>[AKTIFSPOR]</td>\n",
       "      <td>2373965.87</td>\n",
       "    </tr>\n",
       "    <tr>\n",
       "      <th>1</th>\n",
       "      <td>[KADIN]</td>\n",
       "      <td>1139066.02</td>\n",
       "    </tr>\n",
       "    <tr>\n",
       "      <th>2</th>\n",
       "      <td>[]</td>\n",
       "      <td>1136553.55</td>\n",
       "    </tr>\n",
       "    <tr>\n",
       "      <th>3</th>\n",
       "      <td>[KADIN, AKTIFSPOR]</td>\n",
       "      <td>1132049.56</td>\n",
       "    </tr>\n",
       "    <tr>\n",
       "      <th>4</th>\n",
       "      <td>[ERKEK]</td>\n",
       "      <td>1106934.44</td>\n",
       "    </tr>\n",
       "  </tbody>\n",
       "</table>\n",
       "</div>"
      ],
      "text/plain": [
       "  interested_in_categories_12  total_expenditure\n",
       "0                 [AKTIFSPOR]         2373965.87\n",
       "1                     [KADIN]         1139066.02\n",
       "2                          []         1136553.55\n",
       "3          [KADIN, AKTIFSPOR]         1132049.56\n",
       "4                     [ERKEK]         1106934.44"
      ]
     },
     "execution_count": 27,
     "metadata": {},
     "output_type": "execute_result"
    }
   ],
   "source": [
    "\n",
    "one_year = df.groupby(\"interested_in_categories_12\")[\"total_expenditure\"].sum().sort_values(ascending=False).reset_index().head()\n",
    "one_year"
   ]
  },
  {
   "cell_type": "code",
   "execution_count": 28,
   "id": "ae4d2d0f",
   "metadata": {
    "scrolled": true
   },
   "outputs": [
    {
     "data": {
      "image/png": "[encoded data removed]",
      "text/plain": [
       "<Figure size 720x288 with 1 Axes>"
      ]
     },
     "metadata": {
      "needs_background": "light"
     },
     "output_type": "display_data"
    }
   ],
   "source": [
    "plt.figure(figsize=(10,4))\n",
    "sns.barplot(data=one_year,x='interested_in_categories_12',y='total_expenditure')\n",
    "plt.show(block=True)"
   ]
  },
  {
   "cell_type": "markdown",
   "id": "350f8400",
   "metadata": {},
   "source": [
    "# RFM ANALYSIS"
   ]
  },
  {
   "cell_type": "markdown",
   "id": "f2dec277",
   "metadata": {},
   "source": [
    "### RFM METRİCS"
   ]
  },
  {
   "cell_type": "code",
   "execution_count": 29,
   "id": "10f9997b",
   "metadata": {},
   "outputs": [
    {
     "data": {
      "text/plain": [
       "pandas._libs.tslibs.timestamps.Timestamp"
      ]
     },
     "execution_count": 29,
     "metadata": {},
     "output_type": "execute_result"
    }
   ],
   "source": [
    "# Last analysis date\n",
    "last_tmsp = df[\"last_order_date\"].max() #Timestamp('2021-05-30 00:00:00')\n",
    "\n",
    "type(last_tmsp)"
   ]
  },
  {
   "cell_type": "code",
   "execution_count": 30,
   "id": "56ac05de",
   "metadata": {},
   "outputs": [
    {
     "data": {
      "text/plain": [
       "datetime.datetime"
      ]
     },
     "execution_count": 30,
     "metadata": {},
     "output_type": "execute_result"
    }
   ],
   "source": [
    "# Recency Date\n",
    "af_date = dt.datetime(2021,7,1)\n",
    "type(af_date)"
   ]
  },
  {
   "cell_type": "code",
   "execution_count": 31,
   "id": "fdf73aae",
   "metadata": {},
   "outputs": [],
   "source": [
    "rfm = df.groupby('master_id').agg({'last_order_date': lambda last_order_date: (af_date - last_order_date.max()).days,\n",
    "                                     'total_of_purchases': lambda total_of_purchases: total_of_purchases.sum(),\n",
    "                                     'total_expenditure': lambda total_expenditure: total_expenditure.sum()})"
   ]
  },
  {
   "cell_type": "code",
   "execution_count": 32,
   "id": "64a5ae63",
   "metadata": {},
   "outputs": [
    {
     "data": {
      "text/html": [
       "<div>\n",
       "<style scoped>\n",
       "    .dataframe tbody tr th:only-of-type {\n",
       "        vertical-align: middle;\n",
       "    }\n",
       "\n",
       "    .dataframe tbody tr th {\n",
       "        vertical-align: top;\n",
       "    }\n",
       "\n",
       "    .dataframe thead th {\n",
       "        text-align: right;\n",
       "    }\n",
       "</style>\n",
       "<table border=\"1\" class=\"dataframe\">\n",
       "  <thead>\n",
       "    <tr style=\"text-align: right;\">\n",
       "      <th></th>\n",
       "      <th>master_id</th>\n",
       "      <th>last_order_date</th>\n",
       "      <th>total_of_purchases</th>\n",
       "      <th>total_expenditure</th>\n",
       "    </tr>\n",
       "  </thead>\n",
       "  <tbody>\n",
       "    <tr>\n",
       "      <th>0</th>\n",
       "      <td>00016786-2f5a-11ea-bb80-000d3a38a36f</td>\n",
       "      <td>40</td>\n",
       "      <td>5.0</td>\n",
       "      <td>776.07</td>\n",
       "    </tr>\n",
       "    <tr>\n",
       "      <th>1</th>\n",
       "      <td>00034aaa-a838-11e9-a2fc-000d3a38a36f</td>\n",
       "      <td>328</td>\n",
       "      <td>3.0</td>\n",
       "      <td>269.47</td>\n",
       "    </tr>\n",
       "    <tr>\n",
       "      <th>2</th>\n",
       "      <td>000be838-85df-11ea-a90b-000d3a38a36f</td>\n",
       "      <td>243</td>\n",
       "      <td>4.0</td>\n",
       "      <td>722.69</td>\n",
       "    </tr>\n",
       "    <tr>\n",
       "      <th>3</th>\n",
       "      <td>000c1fe2-a8b7-11ea-8479-000d3a38a36f</td>\n",
       "      <td>57</td>\n",
       "      <td>7.0</td>\n",
       "      <td>874.16</td>\n",
       "    </tr>\n",
       "    <tr>\n",
       "      <th>4</th>\n",
       "      <td>000f5e3e-9dde-11ea-80cd-000d3a38a36f</td>\n",
       "      <td>50</td>\n",
       "      <td>7.0</td>\n",
       "      <td>1620.33</td>\n",
       "    </tr>\n",
       "  </tbody>\n",
       "</table>\n",
       "</div>"
      ],
      "text/plain": [
       "                              master_id  last_order_date  total_of_purchases  \\\n",
       "0  00016786-2f5a-11ea-bb80-000d3a38a36f               40                 5.0   \n",
       "1  00034aaa-a838-11e9-a2fc-000d3a38a36f              328                 3.0   \n",
       "2  000be838-85df-11ea-a90b-000d3a38a36f              243                 4.0   \n",
       "3  000c1fe2-a8b7-11ea-8479-000d3a38a36f               57                 7.0   \n",
       "4  000f5e3e-9dde-11ea-80cd-000d3a38a36f               50                 7.0   \n",
       "\n",
       "   total_expenditure  \n",
       "0             776.07  \n",
       "1             269.47  \n",
       "2             722.69  \n",
       "3             874.16  \n",
       "4            1620.33  "
      ]
     },
     "execution_count": 32,
     "metadata": {},
     "output_type": "execute_result"
    }
   ],
   "source": [
    "rfm.reset_index().head()"
   ]
  },
  {
   "cell_type": "code",
   "execution_count": 33,
   "id": "ed3632b7",
   "metadata": {},
   "outputs": [],
   "source": [
    "rfm.columns = ['Recency', 'Frequency', 'Monetary']"
   ]
  },
  {
   "cell_type": "code",
   "execution_count": 34,
   "id": "ef9a6b27",
   "metadata": {},
   "outputs": [
    {
     "data": {
      "text/html": [
       "<div>\n",
       "<style scoped>\n",
       "    .dataframe tbody tr th:only-of-type {\n",
       "        vertical-align: middle;\n",
       "    }\n",
       "\n",
       "    .dataframe tbody tr th {\n",
       "        vertical-align: top;\n",
       "    }\n",
       "\n",
       "    .dataframe thead th {\n",
       "        text-align: right;\n",
       "    }\n",
       "</style>\n",
       "<table border=\"1\" class=\"dataframe\">\n",
       "  <thead>\n",
       "    <tr style=\"text-align: right;\">\n",
       "      <th></th>\n",
       "      <th>count</th>\n",
       "      <th>mean</th>\n",
       "      <th>std</th>\n",
       "      <th>min</th>\n",
       "      <th>25%</th>\n",
       "      <th>50%</th>\n",
       "      <th>75%</th>\n",
       "      <th>max</th>\n",
       "    </tr>\n",
       "  </thead>\n",
       "  <tbody>\n",
       "    <tr>\n",
       "      <th>Recency</th>\n",
       "      <td>19945.0</td>\n",
       "      <td>164.458360</td>\n",
       "      <td>103.281149</td>\n",
       "      <td>32.00</td>\n",
       "      <td>73.00</td>\n",
       "      <td>141.00</td>\n",
       "      <td>232.00</td>\n",
       "      <td>397.0</td>\n",
       "    </tr>\n",
       "    <tr>\n",
       "      <th>Frequency</th>\n",
       "      <td>19945.0</td>\n",
       "      <td>5.024768</td>\n",
       "      <td>4.742707</td>\n",
       "      <td>2.00</td>\n",
       "      <td>3.00</td>\n",
       "      <td>4.00</td>\n",
       "      <td>6.00</td>\n",
       "      <td>202.0</td>\n",
       "    </tr>\n",
       "    <tr>\n",
       "      <th>Monetary</th>\n",
       "      <td>19945.0</td>\n",
       "      <td>751.244287</td>\n",
       "      <td>895.402173</td>\n",
       "      <td>44.98</td>\n",
       "      <td>339.98</td>\n",
       "      <td>545.27</td>\n",
       "      <td>897.78</td>\n",
       "      <td>45905.1</td>\n",
       "    </tr>\n",
       "  </tbody>\n",
       "</table>\n",
       "</div>"
      ],
      "text/plain": [
       "             count        mean         std    min     25%     50%     75%  \\\n",
       "Recency    19945.0  164.458360  103.281149  32.00   73.00  141.00  232.00   \n",
       "Frequency  19945.0    5.024768    4.742707   2.00    3.00    4.00    6.00   \n",
       "Monetary   19945.0  751.244287  895.402173  44.98  339.98  545.27  897.78   \n",
       "\n",
       "               max  \n",
       "Recency      397.0  \n",
       "Frequency    202.0  \n",
       "Monetary   45905.1  "
      ]
     },
     "execution_count": 34,
     "metadata": {},
     "output_type": "execute_result"
    }
   ],
   "source": [
    "rfm.describe().T"
   ]
  },
  {
   "cell_type": "markdown",
   "id": "01ca0231",
   "metadata": {},
   "source": [
    "## Creating RFM SCORE "
   ]
  },
  {
   "cell_type": "code",
   "execution_count": 35,
   "id": "741d924c",
   "metadata": {},
   "outputs": [],
   "source": [
    "# Converting RFM Scores to a Range of 1-5 without breaking the normal distribution.\n",
    "\n",
    "rfm[\"recency_score\"]=pd.qcut(rfm['Recency'],5,labels=[5,4,3,2,1])\n",
    "\n",
    "rfm[\"frequency_score\"] = pd.qcut(rfm['Frequency'].rank(method=\"first\"), 5, labels=[1, 2, 3, 4, 5])\n",
    "\n",
    "rfm[\"monetary_score\"] = pd.qcut(rfm['Monetary'], 5, labels=[1, 2, 3, 4, 5])"
   ]
  },
  {
   "cell_type": "code",
   "execution_count": 36,
   "id": "c7b79b96",
   "metadata": {},
   "outputs": [
    {
     "data": {
      "text/html": [
       "<div>\n",
       "<style scoped>\n",
       "    .dataframe tbody tr th:only-of-type {\n",
       "        vertical-align: middle;\n",
       "    }\n",
       "\n",
       "    .dataframe tbody tr th {\n",
       "        vertical-align: top;\n",
       "    }\n",
       "\n",
       "    .dataframe thead th {\n",
       "        text-align: right;\n",
       "    }\n",
       "</style>\n",
       "<table border=\"1\" class=\"dataframe\">\n",
       "  <thead>\n",
       "    <tr style=\"text-align: right;\">\n",
       "      <th></th>\n",
       "      <th>Recency</th>\n",
       "      <th>Frequency</th>\n",
       "      <th>Monetary</th>\n",
       "      <th>recency_score</th>\n",
       "      <th>frequency_score</th>\n",
       "      <th>monetary_score</th>\n",
       "    </tr>\n",
       "    <tr>\n",
       "      <th>master_id</th>\n",
       "      <th></th>\n",
       "      <th></th>\n",
       "      <th></th>\n",
       "      <th></th>\n",
       "      <th></th>\n",
       "      <th></th>\n",
       "    </tr>\n",
       "  </thead>\n",
       "  <tbody>\n",
       "    <tr>\n",
       "      <th>00016786-2f5a-11ea-bb80-000d3a38a36f</th>\n",
       "      <td>40</td>\n",
       "      <td>5.0</td>\n",
       "      <td>776.07</td>\n",
       "      <td>5</td>\n",
       "      <td>4</td>\n",
       "      <td>4</td>\n",
       "    </tr>\n",
       "    <tr>\n",
       "      <th>00034aaa-a838-11e9-a2fc-000d3a38a36f</th>\n",
       "      <td>328</td>\n",
       "      <td>3.0</td>\n",
       "      <td>269.47</td>\n",
       "      <td>1</td>\n",
       "      <td>2</td>\n",
       "      <td>1</td>\n",
       "    </tr>\n",
       "    <tr>\n",
       "      <th>000be838-85df-11ea-a90b-000d3a38a36f</th>\n",
       "      <td>243</td>\n",
       "      <td>4.0</td>\n",
       "      <td>722.69</td>\n",
       "      <td>2</td>\n",
       "      <td>3</td>\n",
       "      <td>4</td>\n",
       "    </tr>\n",
       "    <tr>\n",
       "      <th>000c1fe2-a8b7-11ea-8479-000d3a38a36f</th>\n",
       "      <td>57</td>\n",
       "      <td>7.0</td>\n",
       "      <td>874.16</td>\n",
       "      <td>5</td>\n",
       "      <td>4</td>\n",
       "      <td>4</td>\n",
       "    </tr>\n",
       "    <tr>\n",
       "      <th>000f5e3e-9dde-11ea-80cd-000d3a38a36f</th>\n",
       "      <td>50</td>\n",
       "      <td>7.0</td>\n",
       "      <td>1620.33</td>\n",
       "      <td>5</td>\n",
       "      <td>4</td>\n",
       "      <td>5</td>\n",
       "    </tr>\n",
       "  </tbody>\n",
       "</table>\n",
       "</div>"
      ],
      "text/plain": [
       "                                      Recency  Frequency  Monetary  \\\n",
       "master_id                                                            \n",
       "00016786-2f5a-11ea-bb80-000d3a38a36f       40        5.0    776.07   \n",
       "00034aaa-a838-11e9-a2fc-000d3a38a36f      328        3.0    269.47   \n",
       "000be838-85df-11ea-a90b-000d3a38a36f      243        4.0    722.69   \n",
       "000c1fe2-a8b7-11ea-8479-000d3a38a36f       57        7.0    874.16   \n",
       "000f5e3e-9dde-11ea-80cd-000d3a38a36f       50        7.0   1620.33   \n",
       "\n",
       "                                     recency_score frequency_score  \\\n",
       "master_id                                                            \n",
       "00016786-2f5a-11ea-bb80-000d3a38a36f             5               4   \n",
       "00034aaa-a838-11e9-a2fc-000d3a38a36f             1               2   \n",
       "000be838-85df-11ea-a90b-000d3a38a36f             2               3   \n",
       "000c1fe2-a8b7-11ea-8479-000d3a38a36f             5               4   \n",
       "000f5e3e-9dde-11ea-80cd-000d3a38a36f             5               4   \n",
       "\n",
       "                                     monetary_score  \n",
       "master_id                                            \n",
       "00016786-2f5a-11ea-bb80-000d3a38a36f              4  \n",
       "00034aaa-a838-11e9-a2fc-000d3a38a36f              1  \n",
       "000be838-85df-11ea-a90b-000d3a38a36f              4  \n",
       "000c1fe2-a8b7-11ea-8479-000d3a38a36f              4  \n",
       "000f5e3e-9dde-11ea-80cd-000d3a38a36f              5  "
      ]
     },
     "execution_count": 36,
     "metadata": {},
     "output_type": "execute_result"
    }
   ],
   "source": [
    "rfm.head()"
   ]
  },
  {
   "cell_type": "markdown",
   "id": "46e857a0",
   "metadata": {},
   "source": [
    "### Recency,Frequency,Monetary Metrics ---> RFM SCORE {(Concat)}"
   ]
  },
  {
   "cell_type": "code",
   "execution_count": 37,
   "id": "a444cbba",
   "metadata": {},
   "outputs": [],
   "source": [
    "rfm[\"RFM_SCORE\"] = (rfm['recency_score'].astype(str) +\n",
    "                    rfm['frequency_score'].astype(str) + rfm['monetary_score'].astype(str))"
   ]
  },
  {
   "cell_type": "code",
   "execution_count": 38,
   "id": "aadaebb5",
   "metadata": {},
   "outputs": [
    {
     "data": {
      "text/html": [
       "<div>\n",
       "<style scoped>\n",
       "    .dataframe tbody tr th:only-of-type {\n",
       "        vertical-align: middle;\n",
       "    }\n",
       "\n",
       "    .dataframe tbody tr th {\n",
       "        vertical-align: top;\n",
       "    }\n",
       "\n",
       "    .dataframe thead th {\n",
       "        text-align: right;\n",
       "    }\n",
       "</style>\n",
       "<table border=\"1\" class=\"dataframe\">\n",
       "  <thead>\n",
       "    <tr style=\"text-align: right;\">\n",
       "      <th></th>\n",
       "      <th>master_id</th>\n",
       "      <th>Recency</th>\n",
       "      <th>Frequency</th>\n",
       "      <th>Monetary</th>\n",
       "      <th>recency_score</th>\n",
       "      <th>frequency_score</th>\n",
       "      <th>monetary_score</th>\n",
       "      <th>RFM_SCORE</th>\n",
       "    </tr>\n",
       "  </thead>\n",
       "  <tbody>\n",
       "    <tr>\n",
       "      <th>0</th>\n",
       "      <td>000f5e3e-9dde-11ea-80cd-000d3a38a36f</td>\n",
       "      <td>50</td>\n",
       "      <td>7.0</td>\n",
       "      <td>1620.33</td>\n",
       "      <td>5</td>\n",
       "      <td>4</td>\n",
       "      <td>5</td>\n",
       "      <td>545</td>\n",
       "    </tr>\n",
       "    <tr>\n",
       "      <th>1</th>\n",
       "      <td>009e2910-1252-11ea-a001-000d3a38a36f</td>\n",
       "      <td>58</td>\n",
       "      <td>7.0</td>\n",
       "      <td>1109.60</td>\n",
       "      <td>5</td>\n",
       "      <td>4</td>\n",
       "      <td>5</td>\n",
       "      <td>545</td>\n",
       "    </tr>\n",
       "    <tr>\n",
       "      <th>2</th>\n",
       "      <td>01949f34-8633-11ea-be76-000d3a38a36f</td>\n",
       "      <td>45</td>\n",
       "      <td>5.0</td>\n",
       "      <td>1339.78</td>\n",
       "      <td>5</td>\n",
       "      <td>4</td>\n",
       "      <td>5</td>\n",
       "      <td>545</td>\n",
       "    </tr>\n",
       "    <tr>\n",
       "      <th>3</th>\n",
       "      <td>0485425c-ac40-11e9-a2fc-000d3a38a36f</td>\n",
       "      <td>61</td>\n",
       "      <td>6.0</td>\n",
       "      <td>1240.04</td>\n",
       "      <td>5</td>\n",
       "      <td>4</td>\n",
       "      <td>5</td>\n",
       "      <td>545</td>\n",
       "    </tr>\n",
       "    <tr>\n",
       "      <th>4</th>\n",
       "      <td>0517a698-a4fb-11e9-a2fc-000d3a38a36f</td>\n",
       "      <td>60</td>\n",
       "      <td>6.0</td>\n",
       "      <td>1189.94</td>\n",
       "      <td>5</td>\n",
       "      <td>4</td>\n",
       "      <td>5</td>\n",
       "      <td>545</td>\n",
       "    </tr>\n",
       "  </tbody>\n",
       "</table>\n",
       "</div>"
      ],
      "text/plain": [
       "                              master_id  Recency  Frequency  Monetary  \\\n",
       "0  000f5e3e-9dde-11ea-80cd-000d3a38a36f       50        7.0   1620.33   \n",
       "1  009e2910-1252-11ea-a001-000d3a38a36f       58        7.0   1109.60   \n",
       "2  01949f34-8633-11ea-be76-000d3a38a36f       45        5.0   1339.78   \n",
       "3  0485425c-ac40-11e9-a2fc-000d3a38a36f       61        6.0   1240.04   \n",
       "4  0517a698-a4fb-11e9-a2fc-000d3a38a36f       60        6.0   1189.94   \n",
       "\n",
       "  recency_score frequency_score monetary_score RFM_SCORE  \n",
       "0             5               4              5       545  \n",
       "1             5               4              5       545  \n",
       "2             5               4              5       545  \n",
       "3             5               4              5       545  \n",
       "4             5               4              5       545  "
      ]
     },
     "execution_count": 38,
     "metadata": {},
     "output_type": "execute_result"
    }
   ],
   "source": [
    "# example filter\n",
    "rfm[rfm[\"RFM_SCORE\"]==\"545\"].reset_index().head()"
   ]
  },
  {
   "cell_type": "markdown",
   "id": "f0fa9400",
   "metadata": {},
   "source": [
    "## Customer Segmentation"
   ]
  },
  {
   "cell_type": "code",
   "execution_count": 39,
   "id": "70b4dc89",
   "metadata": {},
   "outputs": [
    {
     "data": {
      "text/plain": [
       "{'[1-2][1-2]': 'hibernating',\n",
       " '[1-2][3-4]': 'at_Risk',\n",
       " '[1-2]5': 'cant_loose',\n",
       " '3[1-2]': 'about_to_sleep',\n",
       " '33': 'need_attention',\n",
       " '[3-4][4-5]': 'loyal_customers',\n",
       " '41': 'promising',\n",
       " '51': 'new_customers',\n",
       " '[4-5][2-3]': 'potential_loyalists',\n",
       " '5[4-5]': 'champions'}"
      ]
     },
     "execution_count": 39,
     "metadata": {},
     "output_type": "execute_result"
    }
   ],
   "source": [
    "# Regex\n",
    "\n",
    "seg_map = {\n",
    "    r'[1-2][1-2]': 'hibernating',\n",
    "    r'[1-2][3-4]': 'at_Risk',\n",
    "    r'[1-2]5': 'cant_loose',\n",
    "    r'3[1-2]': 'about_to_sleep',\n",
    "    r'33': 'need_attention',\n",
    "    r'[3-4][4-5]': 'loyal_customers',\n",
    "    r'41': 'promising',\n",
    "    r'51': 'new_customers',\n",
    "    r'[4-5][2-3]': 'potential_loyalists',\n",
    "    r'5[4-5]': 'champions'\n",
    "}\n",
    "\n",
    "seg_map"
   ]
  },
  {
   "cell_type": "code",
   "execution_count": 40,
   "id": "f1667f98",
   "metadata": {},
   "outputs": [
    {
     "data": {
      "text/html": [
       "<div>\n",
       "<style scoped>\n",
       "    .dataframe tbody tr th:only-of-type {\n",
       "        vertical-align: middle;\n",
       "    }\n",
       "\n",
       "    .dataframe tbody tr th {\n",
       "        vertical-align: top;\n",
       "    }\n",
       "\n",
       "    .dataframe thead th {\n",
       "        text-align: right;\n",
       "    }\n",
       "</style>\n",
       "<table border=\"1\" class=\"dataframe\">\n",
       "  <thead>\n",
       "    <tr style=\"text-align: right;\">\n",
       "      <th></th>\n",
       "      <th>Recency</th>\n",
       "      <th>Frequency</th>\n",
       "      <th>Monetary</th>\n",
       "      <th>recency_score</th>\n",
       "      <th>frequency_score</th>\n",
       "      <th>monetary_score</th>\n",
       "      <th>RFM_SCORE</th>\n",
       "      <th>Segment</th>\n",
       "    </tr>\n",
       "    <tr>\n",
       "      <th>master_id</th>\n",
       "      <th></th>\n",
       "      <th></th>\n",
       "      <th></th>\n",
       "      <th></th>\n",
       "      <th></th>\n",
       "      <th></th>\n",
       "      <th></th>\n",
       "      <th></th>\n",
       "    </tr>\n",
       "  </thead>\n",
       "  <tbody>\n",
       "    <tr>\n",
       "      <th>00016786-2f5a-11ea-bb80-000d3a38a36f</th>\n",
       "      <td>40</td>\n",
       "      <td>5.0</td>\n",
       "      <td>776.07</td>\n",
       "      <td>5</td>\n",
       "      <td>4</td>\n",
       "      <td>4</td>\n",
       "      <td>544</td>\n",
       "      <td>champions</td>\n",
       "    </tr>\n",
       "    <tr>\n",
       "      <th>00034aaa-a838-11e9-a2fc-000d3a38a36f</th>\n",
       "      <td>328</td>\n",
       "      <td>3.0</td>\n",
       "      <td>269.47</td>\n",
       "      <td>1</td>\n",
       "      <td>2</td>\n",
       "      <td>1</td>\n",
       "      <td>121</td>\n",
       "      <td>hibernating</td>\n",
       "    </tr>\n",
       "    <tr>\n",
       "      <th>000be838-85df-11ea-a90b-000d3a38a36f</th>\n",
       "      <td>243</td>\n",
       "      <td>4.0</td>\n",
       "      <td>722.69</td>\n",
       "      <td>2</td>\n",
       "      <td>3</td>\n",
       "      <td>4</td>\n",
       "      <td>234</td>\n",
       "      <td>at_Risk</td>\n",
       "    </tr>\n",
       "    <tr>\n",
       "      <th>000c1fe2-a8b7-11ea-8479-000d3a38a36f</th>\n",
       "      <td>57</td>\n",
       "      <td>7.0</td>\n",
       "      <td>874.16</td>\n",
       "      <td>5</td>\n",
       "      <td>4</td>\n",
       "      <td>4</td>\n",
       "      <td>544</td>\n",
       "      <td>champions</td>\n",
       "    </tr>\n",
       "    <tr>\n",
       "      <th>000f5e3e-9dde-11ea-80cd-000d3a38a36f</th>\n",
       "      <td>50</td>\n",
       "      <td>7.0</td>\n",
       "      <td>1620.33</td>\n",
       "      <td>5</td>\n",
       "      <td>4</td>\n",
       "      <td>5</td>\n",
       "      <td>545</td>\n",
       "      <td>champions</td>\n",
       "    </tr>\n",
       "  </tbody>\n",
       "</table>\n",
       "</div>"
      ],
      "text/plain": [
       "                                      Recency  Frequency  Monetary  \\\n",
       "master_id                                                            \n",
       "00016786-2f5a-11ea-bb80-000d3a38a36f       40        5.0    776.07   \n",
       "00034aaa-a838-11e9-a2fc-000d3a38a36f      328        3.0    269.47   \n",
       "000be838-85df-11ea-a90b-000d3a38a36f      243        4.0    722.69   \n",
       "000c1fe2-a8b7-11ea-8479-000d3a38a36f       57        7.0    874.16   \n",
       "000f5e3e-9dde-11ea-80cd-000d3a38a36f       50        7.0   1620.33   \n",
       "\n",
       "                                     recency_score frequency_score  \\\n",
       "master_id                                                            \n",
       "00016786-2f5a-11ea-bb80-000d3a38a36f             5               4   \n",
       "00034aaa-a838-11e9-a2fc-000d3a38a36f             1               2   \n",
       "000be838-85df-11ea-a90b-000d3a38a36f             2               3   \n",
       "000c1fe2-a8b7-11ea-8479-000d3a38a36f             5               4   \n",
       "000f5e3e-9dde-11ea-80cd-000d3a38a36f             5               4   \n",
       "\n",
       "                                     monetary_score RFM_SCORE      Segment  \n",
       "master_id                                                                   \n",
       "00016786-2f5a-11ea-bb80-000d3a38a36f              4       544    champions  \n",
       "00034aaa-a838-11e9-a2fc-000d3a38a36f              1       121  hibernating  \n",
       "000be838-85df-11ea-a90b-000d3a38a36f              4       234      at_Risk  \n",
       "000c1fe2-a8b7-11ea-8479-000d3a38a36f              4       544    champions  \n",
       "000f5e3e-9dde-11ea-80cd-000d3a38a36f              5       545    champions  "
      ]
     },
     "execution_count": 40,
     "metadata": {},
     "output_type": "execute_result"
    }
   ],
   "source": [
    "# seg_map include dataframe\n",
    "\n",
    "rfm['Segment'] = rfm['recency_score'].astype(str) + rfm['frequency_score'].astype(str)\n",
    "\n",
    "rfm['Segment'] = rfm['Segment'].replace(seg_map, regex=True)\n",
    "\n",
    "rfm.head()"
   ]
  },
  {
   "cell_type": "code",
   "execution_count": 41,
   "id": "c23982bd",
   "metadata": {
    "scrolled": true
   },
   "outputs": [
    {
     "data": {
      "text/html": [
       "<div>\n",
       "<style scoped>\n",
       "    .dataframe tbody tr th:only-of-type {\n",
       "        vertical-align: middle;\n",
       "    }\n",
       "\n",
       "    .dataframe tbody tr th {\n",
       "        vertical-align: top;\n",
       "    }\n",
       "\n",
       "    .dataframe thead th {\n",
       "        text-align: right;\n",
       "    }\n",
       "</style>\n",
       "<table border=\"1\" class=\"dataframe\">\n",
       "  <thead>\n",
       "    <tr style=\"text-align: right;\">\n",
       "      <th></th>\n",
       "      <th>Recency</th>\n",
       "      <th>Frequency</th>\n",
       "      <th>Monetary</th>\n",
       "      <th>recency_score</th>\n",
       "      <th>frequency_score</th>\n",
       "      <th>monetary_score</th>\n",
       "      <th>RFM_SCORE</th>\n",
       "      <th>Segment</th>\n",
       "    </tr>\n",
       "    <tr>\n",
       "      <th>master_id</th>\n",
       "      <th></th>\n",
       "      <th></th>\n",
       "      <th></th>\n",
       "      <th></th>\n",
       "      <th></th>\n",
       "      <th></th>\n",
       "      <th></th>\n",
       "      <th></th>\n",
       "    </tr>\n",
       "  </thead>\n",
       "  <tbody>\n",
       "    <tr>\n",
       "      <th>004d5204-2037-11ea-87bf-000d3a38a36f</th>\n",
       "      <td>57</td>\n",
       "      <td>8.0</td>\n",
       "      <td>1170.76</td>\n",
       "      <td>5</td>\n",
       "      <td>5</td>\n",
       "      <td>5</td>\n",
       "      <td>555</td>\n",
       "      <td>champions</td>\n",
       "    </tr>\n",
       "    <tr>\n",
       "      <th>00b3ee24-aa44-11e9-a2fc-000d3a38a36f</th>\n",
       "      <td>54</td>\n",
       "      <td>8.0</td>\n",
       "      <td>2027.78</td>\n",
       "      <td>5</td>\n",
       "      <td>5</td>\n",
       "      <td>5</td>\n",
       "      <td>555</td>\n",
       "      <td>champions</td>\n",
       "    </tr>\n",
       "    <tr>\n",
       "      <th>00cf8494-9da2-11e9-9897-000d3a38a36f</th>\n",
       "      <td>35</td>\n",
       "      <td>53.0</td>\n",
       "      <td>6275.33</td>\n",
       "      <td>5</td>\n",
       "      <td>5</td>\n",
       "      <td>5</td>\n",
       "      <td>555</td>\n",
       "      <td>champions</td>\n",
       "    </tr>\n",
       "  </tbody>\n",
       "</table>\n",
       "</div>"
      ],
      "text/plain": [
       "                                      Recency  Frequency  Monetary  \\\n",
       "master_id                                                            \n",
       "004d5204-2037-11ea-87bf-000d3a38a36f       57        8.0   1170.76   \n",
       "00b3ee24-aa44-11e9-a2fc-000d3a38a36f       54        8.0   2027.78   \n",
       "00cf8494-9da2-11e9-9897-000d3a38a36f       35       53.0   6275.33   \n",
       "\n",
       "                                     recency_score frequency_score  \\\n",
       "master_id                                                            \n",
       "004d5204-2037-11ea-87bf-000d3a38a36f             5               5   \n",
       "00b3ee24-aa44-11e9-a2fc-000d3a38a36f             5               5   \n",
       "00cf8494-9da2-11e9-9897-000d3a38a36f             5               5   \n",
       "\n",
       "                                     monetary_score RFM_SCORE    Segment  \n",
       "master_id                                                                 \n",
       "004d5204-2037-11ea-87bf-000d3a38a36f              5       555  champions  \n",
       "00b3ee24-aa44-11e9-a2fc-000d3a38a36f              5       555  champions  \n",
       "00cf8494-9da2-11e9-9897-000d3a38a36f              5       555  champions  "
      ]
     },
     "execution_count": 41,
     "metadata": {},
     "output_type": "execute_result"
    }
   ],
   "source": [
    "rfm[rfm['RFM_SCORE'] == '555'].head(3)"
   ]
  },
  {
   "cell_type": "markdown",
   "id": "d72ad4e9",
   "metadata": {},
   "source": [
    "## Examine the distribut. of segments"
   ]
  },
  {
   "cell_type": "code",
   "execution_count": 42,
   "id": "e60c5fe0",
   "metadata": {
    "scrolled": true
   },
   "outputs": [
    {
     "data": {
      "text/html": [
       "<div>\n",
       "<style scoped>\n",
       "    .dataframe tbody tr th:only-of-type {\n",
       "        vertical-align: middle;\n",
       "    }\n",
       "\n",
       "    .dataframe tbody tr th {\n",
       "        vertical-align: top;\n",
       "    }\n",
       "\n",
       "    .dataframe thead tr th {\n",
       "        text-align: left;\n",
       "    }\n",
       "\n",
       "    .dataframe thead tr:last-of-type th {\n",
       "        text-align: right;\n",
       "    }\n",
       "</style>\n",
       "<table border=\"1\" class=\"dataframe\">\n",
       "  <thead>\n",
       "    <tr>\n",
       "      <th></th>\n",
       "      <th colspan=\"2\" halign=\"left\">Recency</th>\n",
       "      <th colspan=\"2\" halign=\"left\">Frequency</th>\n",
       "      <th colspan=\"2\" halign=\"left\">Monetary</th>\n",
       "    </tr>\n",
       "    <tr>\n",
       "      <th></th>\n",
       "      <th>mean</th>\n",
       "      <th>count</th>\n",
       "      <th>mean</th>\n",
       "      <th>count</th>\n",
       "      <th>mean</th>\n",
       "      <th>count</th>\n",
       "    </tr>\n",
       "    <tr>\n",
       "      <th>Segment</th>\n",
       "      <th></th>\n",
       "      <th></th>\n",
       "      <th></th>\n",
       "      <th></th>\n",
       "      <th></th>\n",
       "      <th></th>\n",
       "    </tr>\n",
       "  </thead>\n",
       "  <tbody>\n",
       "    <tr>\n",
       "      <th>about_to_sleep</th>\n",
       "      <td>144.031649</td>\n",
       "      <td>1643</td>\n",
       "      <td>2.406573</td>\n",
       "      <td>1643</td>\n",
       "      <td>361.649373</td>\n",
       "      <td>1643</td>\n",
       "    </tr>\n",
       "    <tr>\n",
       "      <th>at_Risk</th>\n",
       "      <td>272.328997</td>\n",
       "      <td>3152</td>\n",
       "      <td>4.470178</td>\n",
       "      <td>3152</td>\n",
       "      <td>648.325038</td>\n",
       "      <td>3152</td>\n",
       "    </tr>\n",
       "    <tr>\n",
       "      <th>cant_loose</th>\n",
       "      <td>265.159129</td>\n",
       "      <td>1194</td>\n",
       "      <td>10.716918</td>\n",
       "      <td>1194</td>\n",
       "      <td>1481.652446</td>\n",
       "      <td>1194</td>\n",
       "    </tr>\n",
       "    <tr>\n",
       "      <th>champions</th>\n",
       "      <td>47.142187</td>\n",
       "      <td>1920</td>\n",
       "      <td>8.965104</td>\n",
       "      <td>1920</td>\n",
       "      <td>1410.708938</td>\n",
       "      <td>1920</td>\n",
       "    </tr>\n",
       "    <tr>\n",
       "      <th>hibernating</th>\n",
       "      <td>277.426303</td>\n",
       "      <td>3589</td>\n",
       "      <td>2.391474</td>\n",
       "      <td>3589</td>\n",
       "      <td>362.583299</td>\n",
       "      <td>3589</td>\n",
       "    </tr>\n",
       "    <tr>\n",
       "      <th>loyal_customers</th>\n",
       "      <td>112.557926</td>\n",
       "      <td>3375</td>\n",
       "      <td>8.356444</td>\n",
       "      <td>3375</td>\n",
       "      <td>1216.257224</td>\n",
       "      <td>3375</td>\n",
       "    </tr>\n",
       "    <tr>\n",
       "      <th>need_attention</th>\n",
       "      <td>143.037221</td>\n",
       "      <td>806</td>\n",
       "      <td>3.739454</td>\n",
       "      <td>806</td>\n",
       "      <td>553.436638</td>\n",
       "      <td>806</td>\n",
       "    </tr>\n",
       "    <tr>\n",
       "      <th>new_customers</th>\n",
       "      <td>47.976226</td>\n",
       "      <td>673</td>\n",
       "      <td>2.000000</td>\n",
       "      <td>673</td>\n",
       "      <td>344.049495</td>\n",
       "      <td>673</td>\n",
       "    </tr>\n",
       "    <tr>\n",
       "      <th>potential_loyalists</th>\n",
       "      <td>66.869744</td>\n",
       "      <td>2925</td>\n",
       "      <td>3.310769</td>\n",
       "      <td>2925</td>\n",
       "      <td>533.741344</td>\n",
       "      <td>2925</td>\n",
       "    </tr>\n",
       "    <tr>\n",
       "      <th>promising</th>\n",
       "      <td>88.694611</td>\n",
       "      <td>668</td>\n",
       "      <td>2.000000</td>\n",
       "      <td>668</td>\n",
       "      <td>334.153338</td>\n",
       "      <td>668</td>\n",
       "    </tr>\n",
       "  </tbody>\n",
       "</table>\n",
       "</div>"
      ],
      "text/plain": [
       "                        Recency        Frequency           Monetary      \n",
       "                           mean count       mean count         mean count\n",
       "Segment                                                                  \n",
       "about_to_sleep       144.031649  1643   2.406573  1643   361.649373  1643\n",
       "at_Risk              272.328997  3152   4.470178  3152   648.325038  3152\n",
       "cant_loose           265.159129  1194  10.716918  1194  1481.652446  1194\n",
       "champions             47.142187  1920   8.965104  1920  1410.708938  1920\n",
       "hibernating          277.426303  3589   2.391474  3589   362.583299  3589\n",
       "loyal_customers      112.557926  3375   8.356444  3375  1216.257224  3375\n",
       "need_attention       143.037221   806   3.739454   806   553.436638   806\n",
       "new_customers         47.976226   673   2.000000   673   344.049495   673\n",
       "potential_loyalists   66.869744  2925   3.310769  2925   533.741344  2925\n",
       "promising             88.694611   668   2.000000   668   334.153338   668"
      ]
     },
     "execution_count": 42,
     "metadata": {},
     "output_type": "execute_result"
    }
   ],
   "source": [
    "\n",
    "\n",
    "rfm[[\"Segment\", \"Recency\", \"Frequency\", \"Monetary\"]].groupby(\"Segment\").agg([\"mean\", \"count\"])"
   ]
  },
  {
   "cell_type": "markdown",
   "id": "0b2631b9",
   "metadata": {},
   "source": [
    "## Segmentation Graph"
   ]
  },
  {
   "cell_type": "code",
   "execution_count": 43,
   "id": "9a54d7e9",
   "metadata": {},
   "outputs": [
    {
     "data": {
      "text/plain": [
       "hibernating            3589\n",
       "loyal_customers        3375\n",
       "at_Risk                3152\n",
       "potential_loyalists    2925\n",
       "champions              1920\n",
       "about_to_sleep         1643\n",
       "cant_loose             1194\n",
       "need_attention          806\n",
       "new_customers           673\n",
       "promising               668\n",
       "Name: Segment, dtype: int64"
      ]
     },
     "execution_count": 43,
     "metadata": {},
     "output_type": "execute_result"
    }
   ],
   "source": [
    "\n",
    "Segments = rfm['Segment'].value_counts().sort_values(ascending=False)\n",
    "Segments"
   ]
  },
  {
   "cell_type": "markdown",
   "id": "67d188aa",
   "metadata": {},
   "source": [
    "#### TREE MAP"
   ]
  },
  {
   "cell_type": "code",
   "execution_count": 44,
   "id": "7a703666",
   "metadata": {
    "scrolled": true
   },
   "outputs": [
    {
     "data": {
      "image/png": "[encoded data removed]",
      "text/plain": [
       "<Figure size 1440x936 with 1 Axes>"
      ]
     },
     "metadata": {
      "needs_background": "light"
     },
     "output_type": "display_data"
    }
   ],
   "source": [
    "fig = plt.gcf()\n",
    "ax = fig.add_subplot()\n",
    "fig.set_size_inches(20, 13)\n",
    "\n",
    "squarify.plot(sizes=Segments,\n",
    "              label=['hibernating',\n",
    "                     'at_Risk',\n",
    "                     'cant_loose',\n",
    "                     'about_to_sleep',\n",
    "                     'need_attention',\n",
    "                     'loyal_customers',\n",
    "                     'promising',\n",
    "                     'new_customers',\n",
    "                     'potential_loyalists',\n",
    "                     'champions'],color=[\"red\",\"yellow\",\"blue\", \"green\",\"orange\"],pad=True, \n",
    "              bar_kwargs={'alpha':.75}, text_kwargs={'fontsize':15})\n",
    "plt.title(\"FLO Customer Segmentation\",fontsize=30)\n",
    "plt.xlabel('Frequency', fontsize=30)\n",
    "plt.ylabel('Recency', fontsize=30)\n",
    "plt.show()"
   ]
  },
  {
   "cell_type": "markdown",
   "id": "cff84def",
   "metadata": {},
   "source": [
    "## Scatter plot for recency v/s monetary"
   ]
  },
  {
   "cell_type": "code",
   "execution_count": 45,
   "id": "e44fc87f",
   "metadata": {},
   "outputs": [
    {
     "data": {
      "text/plain": [
       "<Figure size 576x504 with 0 Axes>"
      ]
     },
     "metadata": {},
     "output_type": "display_data"
    },
    {
     "data": {
      "image/png": "[encoded data removed]",
      "text/plain": [
       "<Figure size 432x288 with 1 Axes>"
      ]
     },
     "metadata": {
      "needs_background": "light"
     },
     "output_type": "display_data"
    }
   ],
   "source": [
    "plt.figure(figsize=(8,7))\n",
    "rfm.plot.scatter(x='Recency' , y='Monetary')\n",
    "plt.xlabel('Recency')\n",
    "plt.ylabel('Monetary ($)')\n",
    "plt.title('Recency vs Monetary')\n",
    "plt.show()"
   ]
  },
  {
   "cell_type": "markdown",
   "id": "64984051",
   "metadata": {},
   "source": [
    "## Scatter plot for frequency v/s moentary"
   ]
  },
  {
   "cell_type": "code",
   "execution_count": 46,
   "id": "04a5f6dd",
   "metadata": {
    "scrolled": true
   },
   "outputs": [
    {
     "data": {
      "text/plain": [
       "<Figure size 576x504 with 0 Axes>"
      ]
     },
     "metadata": {},
     "output_type": "display_data"
    },
    {
     "data": {
      "image/png": "[encoded data removed]",
      "text/plain": [
       "<Figure size 432x288 with 1 Axes>"
      ]
     },
     "metadata": {
      "needs_background": "light"
     },
     "output_type": "display_data"
    }
   ],
   "source": [
    "plt.figure(figsize=(8,7))\n",
    "rfm.plot.scatter(x='Frequency' , y='Monetary')\n",
    "plt.xlabel('Frequency')\n",
    "plt.ylabel('Monetary ($)')\n",
    "plt.title('Frequency vs Monetary')\n",
    "plt.show()"
   ]
  },
  {
   "cell_type": "markdown",
   "id": "4ade6a07",
   "metadata": {},
   "source": [
    "## Q-Q  plot of the quantiles of x versus the quantiles/ppf of a distribution."
   ]
  },
  {
   "cell_type": "code",
   "execution_count": 47,
   "id": "79379add",
   "metadata": {},
   "outputs": [
    {
     "data": {
      "image/png": "[encoded data removed]",
      "text/plain": [
       "<Figure size 1440x864 with 4 Axes>"
      ]
     },
     "metadata": {
      "needs_background": "light"
     },
     "output_type": "display_data"
    }
   ],
   "source": [
    "\n",
    "from statsmodels.graphics.gofplots import qqplot\n",
    "from matplotlib import pyplot as plt\n",
    "f, axes = plt.subplots(2, 2, figsize=(20,12))\n",
    "\n",
    "#define distribution graphs\n",
    "qqplot(rfm.Recency, line='r', ax=axes[0,0], label='Recency')\n",
    "qqplot(rfm.Frequency, line='r', ax=axes[0,1], label='Frequency')\n",
    "qqplot(rfm.Monetary, line='r', ax=axes[1,0], label='MonetaryValue')\n",
    "\n",
    "#plot all\n",
    "plt.tight_layout()"
   ]
  },
  {
   "cell_type": "markdown",
   "id": "5bc3e7d4",
   "metadata": {},
   "source": [
    "## CASES \n",
    "### -CASE 1:\n",
    " A new women's shoe brand will be included. The target audience (champions,loyal_customers) and women are determined as shoppers. We need access to the id numbers of these customers."
   ]
  },
  {
   "cell_type": "code",
   "execution_count": 48,
   "id": "60540dcb",
   "metadata": {},
   "outputs": [
    {
     "data": {
      "text/plain": [
       "5295"
      ]
     },
     "execution_count": 48,
     "metadata": {},
     "output_type": "execute_result"
    }
   ],
   "source": [
    "SEGMENT_A = rfm[(rfm[\"Segment\"]==\"champions\") | (rfm[\"Segment\"]==\"loyal_customers\")]\n",
    "SEGMENT_A.shape[0] "
   ]
  },
  {
   "cell_type": "code",
   "execution_count": 49,
   "id": "178238da",
   "metadata": {},
   "outputs": [
    {
     "data": {
      "text/plain": [
       "7603"
      ]
     },
     "execution_count": 49,
     "metadata": {},
     "output_type": "execute_result"
    }
   ],
   "source": [
    "SEGMENT_B = df[(df[\"interested_in_categories_12\"]).str.contains(\"KADIN\")] #7603\n",
    "SEGMENT_B.shape[0] "
   ]
  },
  {
   "cell_type": "code",
   "execution_count": 50,
   "id": "4789e808",
   "metadata": {},
   "outputs": [
    {
     "data": {
      "text/html": [
       "<div>\n",
       "<style scoped>\n",
       "    .dataframe tbody tr th:only-of-type {\n",
       "        vertical-align: middle;\n",
       "    }\n",
       "\n",
       "    .dataframe tbody tr th {\n",
       "        vertical-align: top;\n",
       "    }\n",
       "\n",
       "    .dataframe thead th {\n",
       "        text-align: right;\n",
       "    }\n",
       "</style>\n",
       "<table border=\"1\" class=\"dataframe\">\n",
       "  <thead>\n",
       "    <tr style=\"text-align: right;\">\n",
       "      <th></th>\n",
       "      <th>master_id</th>\n",
       "      <th>Recency</th>\n",
       "      <th>Frequency</th>\n",
       "      <th>Monetary</th>\n",
       "      <th>recency_score</th>\n",
       "      <th>frequency_score</th>\n",
       "      <th>monetary_score</th>\n",
       "      <th>RFM_SCORE</th>\n",
       "      <th>Segment</th>\n",
       "      <th>interested_in_categories_12</th>\n",
       "    </tr>\n",
       "  </thead>\n",
       "  <tbody>\n",
       "    <tr>\n",
       "      <th>0</th>\n",
       "      <td>000c1fe2-a8b7-11ea-8479-000d3a38a36f</td>\n",
       "      <td>57</td>\n",
       "      <td>7.0</td>\n",
       "      <td>874.16</td>\n",
       "      <td>5</td>\n",
       "      <td>4</td>\n",
       "      <td>4</td>\n",
       "      <td>544</td>\n",
       "      <td>champions</td>\n",
       "      <td>[AKTIFCOCUK, ERKEK, COCUK, KADIN, AKTIFSPOR]</td>\n",
       "    </tr>\n",
       "    <tr>\n",
       "      <th>1</th>\n",
       "      <td>003903e0-abce-11e9-a2fc-000d3a38a36f</td>\n",
       "      <td>98</td>\n",
       "      <td>5.0</td>\n",
       "      <td>577.47</td>\n",
       "      <td>4</td>\n",
       "      <td>4</td>\n",
       "      <td>3</td>\n",
       "      <td>443</td>\n",
       "      <td>loyal_customers</td>\n",
       "      <td>[KADIN]</td>\n",
       "    </tr>\n",
       "    <tr>\n",
       "      <th>2</th>\n",
       "      <td>004bec18-9f7a-11e9-a2fc-000d3a38a36f</td>\n",
       "      <td>129</td>\n",
       "      <td>12.0</td>\n",
       "      <td>684.91</td>\n",
       "      <td>3</td>\n",
       "      <td>5</td>\n",
       "      <td>4</td>\n",
       "      <td>354</td>\n",
       "      <td>loyal_customers</td>\n",
       "      <td>[ERKEK, KADIN, AKTIFSPOR]</td>\n",
       "    </tr>\n",
       "    <tr>\n",
       "      <th>3</th>\n",
       "      <td>00534fe4-a6b4-11e9-a2fc-000d3a38a36f</td>\n",
       "      <td>93</td>\n",
       "      <td>16.0</td>\n",
       "      <td>800.59</td>\n",
       "      <td>4</td>\n",
       "      <td>5</td>\n",
       "      <td>4</td>\n",
       "      <td>454</td>\n",
       "      <td>loyal_customers</td>\n",
       "      <td>[ERKEK, KADIN, AKTIFSPOR]</td>\n",
       "    </tr>\n",
       "    <tr>\n",
       "      <th>4</th>\n",
       "      <td>009293fe-1f3e-11ea-87bf-000d3a38a36f</td>\n",
       "      <td>159</td>\n",
       "      <td>6.0</td>\n",
       "      <td>725.18</td>\n",
       "      <td>3</td>\n",
       "      <td>4</td>\n",
       "      <td>4</td>\n",
       "      <td>344</td>\n",
       "      <td>loyal_customers</td>\n",
       "      <td>[COCUK, KADIN, AKTIFSPOR]</td>\n",
       "    </tr>\n",
       "  </tbody>\n",
       "</table>\n",
       "</div>"
      ],
      "text/plain": [
       "                              master_id  Recency  Frequency  Monetary  \\\n",
       "0  000c1fe2-a8b7-11ea-8479-000d3a38a36f       57        7.0    874.16   \n",
       "1  003903e0-abce-11e9-a2fc-000d3a38a36f       98        5.0    577.47   \n",
       "2  004bec18-9f7a-11e9-a2fc-000d3a38a36f      129       12.0    684.91   \n",
       "3  00534fe4-a6b4-11e9-a2fc-000d3a38a36f       93       16.0    800.59   \n",
       "4  009293fe-1f3e-11ea-87bf-000d3a38a36f      159        6.0    725.18   \n",
       "\n",
       "  recency_score frequency_score monetary_score RFM_SCORE          Segment  \\\n",
       "0             5               4              4       544        champions   \n",
       "1             4               4              3       443  loyal_customers   \n",
       "2             3               5              4       354  loyal_customers   \n",
       "3             4               5              4       454  loyal_customers   \n",
       "4             3               4              4       344  loyal_customers   \n",
       "\n",
       "                    interested_in_categories_12  \n",
       "0  [AKTIFCOCUK, ERKEK, COCUK, KADIN, AKTIFSPOR]  \n",
       "1                                       [KADIN]  \n",
       "2                     [ERKEK, KADIN, AKTIFSPOR]  \n",
       "3                     [ERKEK, KADIN, AKTIFSPOR]  \n",
       "4                     [COCUK, KADIN, AKTIFSPOR]  "
      ]
     },
     "execution_count": 50,
     "metadata": {},
     "output_type": "execute_result"
    }
   ],
   "source": [
    "one_case = pd.merge(SEGMENT_A,SEGMENT_B[[\"interested_in_categories_12\",\"master_id\"]],on=[\"master_id\"])\n",
    "one_case.head()"
   ]
  },
  {
   "cell_type": "code",
   "execution_count": 51,
   "id": "08b3a095",
   "metadata": {},
   "outputs": [],
   "source": [
    "#one_case= one_case.drop(one_case.loc[:,'Recency':'interested_in_categories_12'].columns,axis=1)\n"
   ]
  },
  {
   "cell_type": "code",
   "execution_count": 52,
   "id": "c507f126",
   "metadata": {},
   "outputs": [],
   "source": [
    "# Turn the csv format\n",
    "one_case.to_csv(\"one_case_customer_information_1.csv\")"
   ]
  },
  {
   "cell_type": "markdown",
   "id": "19d608cb",
   "metadata": {},
   "source": [
    "## CASE 2:\n",
    "A 40% discount on men's and children's products is planned. The target audience is (cant_loose, about_to_sleep, new_customers). We need to access the id numbers of these customers."
   ]
  },
  {
   "cell_type": "code",
   "execution_count": 53,
   "id": "861e4a9f",
   "metadata": {},
   "outputs": [],
   "source": [
    "SEGMENT_C = rfm[(rfm[\"Segment\"]==\"cant_loose\") | (rfm[\"Segment\"]==\"about_to_sleep\") | (rfm[\"Segment\"]==\"new_customers\")]\n",
    "\n",
    "SEGMENT_D = df[(df[\"interested_in_categories_12\"]).str.contains(\"ERKEK|COCUK\")]"
   ]
  },
  {
   "cell_type": "code",
   "execution_count": 54,
   "id": "a79bd2a4",
   "metadata": {},
   "outputs": [],
   "source": [
    "second_case = pd.merge(SEGMENT_C,SEGMENT_D[[\"interested_in_categories_12\",\"master_id\"]],on=[\"master_id\"])"
   ]
  },
  {
   "cell_type": "code",
   "execution_count": 55,
   "id": "7b06cae9",
   "metadata": {},
   "outputs": [],
   "source": [
    "#second_case= second_case.drop(second_case.loc[:,'Recency':'interested_in_categories_12'].columns,axis=1)"
   ]
  },
  {
   "cell_type": "code",
   "execution_count": 56,
   "id": "1fc04348",
   "metadata": {},
   "outputs": [],
   "source": [
    "# Turn the csv format\n",
    "\n",
    "second_case.to_csv(\"second_case_customer_information_2.csv\",index=False)"
   ]
  },
  {
   "cell_type": "code",
   "execution_count": null,
   "id": "e64af816",
   "metadata": {},
   "outputs": [],
   "source": []
  }
 ],
 "metadata": {
  "kernelspec": {
   "display_name": "Python 3 (ipykernel)",
   "language": "python",
   "name": "python3"
  },
  "language_info": {
   "codemirror_mode": {
    "name": "ipython",
    "version": 3
   },
   "file_extension": ".py",
   "mimetype": "text/x-python",
   "name": "python",
   "nbconvert_exporter": "python",
   "pygments_lexer": "ipython3",
   "version": "3.9.12"
  }
 },
 "nbformat": 4,
 "nbformat_minor": 5
}
